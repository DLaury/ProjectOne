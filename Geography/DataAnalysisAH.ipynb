{
 "cells": [
  {
   "cell_type": "code",
   "execution_count": 20,
   "metadata": {},
   "outputs": [
    {
     "data": {
      "text/plain": [
       "21919.525629616488"
      ]
     },
     "execution_count": 20,
     "metadata": {},
     "output_type": "execute_result"
    }
   ],
   "source": [
    "import pandas as pd\n",
    "import numpy as np\n",
    "import matplotlib.pyplot as plt\n",
    "from scipy.stats import sem\n",
    "import math\n",
    "\n",
    "\n",
    "data = pd.read_csv(\"EmploymentVsCrime.csv\")\n",
    "data_2010 = data[data[\"Year\"]==2010]\n",
    "data_2011 = data[data[\"Year\"]==2011]\n",
    "data_2012 = data[data[\"Year\"]==2012]\n",
    "data_2013 = data[data[\"Year\"]==2013]\n",
    "data_2014 = data[data[\"Year\"]==2014]\n",
    "data_2015 = data[data[\"Year\"]==2015]\n",
    "\n",
    "np.std(data_2010[\"Average Number Unemployed\"])"
   ]
  },
  {
   "cell_type": "code",
   "execution_count": 22,
   "metadata": {},
   "outputs": [
    {
     "data": {
      "text/plain": [
       "1793"
      ]
     },
     "execution_count": 22,
     "metadata": {},
     "output_type": "execute_result"
    }
   ],
   "source": [
    "mean_2010 = data_2010[\"Average Number Unemployed\"].mean()\n",
    "std_2010 = np.std(data_2010[\"Average Number Unemployed\"])\n",
    "#sem(data_2010[\"Average Number Unemployed\"]),std_2010\n",
    "math.sqrt(len(data_2010[\"Average Number Unemployed\"]))\n",
    "len(data_2010[\"Average Number Unemployed\"])\n"
   ]
  },
  {
   "cell_type": "code",
   "execution_count": 29,
   "metadata": {},
   "outputs": [
    {
     "data": {
      "text/plain": [
       "(642.0000000333333, 2149.7499999999986)"
      ]
     },
     "execution_count": 29,
     "metadata": {},
     "output_type": "execute_result"
    }
   ],
   "source": [
    "data_2010[\"Average Number Unemployed\"].quantile(1/3),data_2010[\"Average Number Unemployed\"].quantile(2/3)"
   ]
  },
  {
   "cell_type": "code",
   "execution_count": 36,
   "metadata": {},
   "outputs": [
    {
     "data": {
      "text/plain": [
       "Index(['Unnamed: 0', 'Year', 'State', 'County', 'Average Number Unemployed',\n",
       "       'Average Percent Unemployed', 'Number of Crimes', 'Total Labor Force'],\n",
       "      dtype='object')"
      ]
     },
     "execution_count": 36,
     "metadata": {},
     "output_type": "execute_result"
    }
   ],
   "source": [
    "data_2015.columns\n"
   ]
  },
  {
   "cell_type": "code",
   "execution_count": 38,
   "metadata": {},
   "outputs": [
    {
     "data": {
      "text/plain": [
       "{'whiskers': [<matplotlib.lines.Line2D at 0x250208c5c18>,\n",
       "  <matplotlib.lines.Line2D at 0x250208d00f0>],\n",
       " 'caps': [<matplotlib.lines.Line2D at 0x250208d0518>,\n",
       "  <matplotlib.lines.Line2D at 0x250208d0940>],\n",
       " 'boxes': [<matplotlib.lines.Line2D at 0x250208c5ac8>],\n",
       " 'medians': [<matplotlib.lines.Line2D at 0x250208d0d68>],\n",
       " 'fliers': [<matplotlib.lines.Line2D at 0x250208d71d0>],\n",
       " 'means': []}"
      ]
     },
     "execution_count": 38,
     "metadata": {},
     "output_type": "execute_result"
    },
    {
     "data": {
      "image/png": "[encoded data removed]",
      "text/plain": [
       "<Figure size 432x288 with 1 Axes>"
      ]
     },
     "metadata": {},
     "output_type": "display_data"
    }
   ],
   "source": [
    "#plt.boxplot(data_2010[\"Average Number Unemployed\"],vert=True)\n",
    "plt.boxplot(data_2015[\"Average Percent Unemployed\"],vert=True)\n",
    "#plt.ylim(0,5000)"
   ]
  },
  {
   "cell_type": "code",
   "execution_count": 40,
   "metadata": {},
   "outputs": [
    {
     "data": {
      "text/html": [
       "<div>\n",
       "<style scoped>\n",
       "    .dataframe tbody tr th:only-of-type {\n",
       "        vertical-align: middle;\n",
       "    }\n",
       "\n",
       "    .dataframe tbody tr th {\n",
       "        vertical-align: top;\n",
       "    }\n",
       "\n",
       "    .dataframe thead th {\n",
       "        text-align: right;\n",
       "    }\n",
       "</style>\n",
       "<table border=\"1\" class=\"dataframe\">\n",
       "  <thead>\n",
       "    <tr style=\"text-align: right;\">\n",
       "      <th></th>\n",
       "      <th>Unnamed: 0</th>\n",
       "      <th>Year</th>\n",
       "      <th>State</th>\n",
       "      <th>County</th>\n",
       "      <th>Average Number Unemployed</th>\n",
       "      <th>Average Percent Unemployed</th>\n",
       "      <th>Number of Crimes</th>\n",
       "      <th>Total Labor Force</th>\n",
       "    </tr>\n",
       "  </thead>\n",
       "  <tbody>\n",
       "    <tr>\n",
       "      <th>0</th>\n",
       "      <td>0</td>\n",
       "      <td>2010</td>\n",
       "      <td>AL</td>\n",
       "      <td>lee</td>\n",
       "      <td>6005.750000</td>\n",
       "      <td>9.025000</td>\n",
       "      <td>7107</td>\n",
       "      <td>66764.166670</td>\n",
       "    </tr>\n",
       "    <tr>\n",
       "      <th>1</th>\n",
       "      <td>1</td>\n",
       "      <td>2011</td>\n",
       "      <td>AL</td>\n",
       "      <td>lee</td>\n",
       "      <td>5503.583333</td>\n",
       "      <td>8.050000</td>\n",
       "      <td>9148</td>\n",
       "      <td>68315.500000</td>\n",
       "    </tr>\n",
       "    <tr>\n",
       "      <th>2</th>\n",
       "      <td>2</td>\n",
       "      <td>2012</td>\n",
       "      <td>AL</td>\n",
       "      <td>lee</td>\n",
       "      <td>4671.250000</td>\n",
       "      <td>6.766667</td>\n",
       "      <td>8036</td>\n",
       "      <td>68918.250000</td>\n",
       "    </tr>\n",
       "    <tr>\n",
       "      <th>3</th>\n",
       "      <td>3</td>\n",
       "      <td>2013</td>\n",
       "      <td>AL</td>\n",
       "      <td>lee</td>\n",
       "      <td>4144.250000</td>\n",
       "      <td>5.858333</td>\n",
       "      <td>7441</td>\n",
       "      <td>70523.000000</td>\n",
       "    </tr>\n",
       "    <tr>\n",
       "      <th>4</th>\n",
       "      <td>4</td>\n",
       "      <td>2014</td>\n",
       "      <td>AL</td>\n",
       "      <td>lee</td>\n",
       "      <td>3987.000000</td>\n",
       "      <td>5.566667</td>\n",
       "      <td>7671</td>\n",
       "      <td>71372.166670</td>\n",
       "    </tr>\n",
       "    <tr>\n",
       "      <th>5</th>\n",
       "      <td>5</td>\n",
       "      <td>2015</td>\n",
       "      <td>AL</td>\n",
       "      <td>lee</td>\n",
       "      <td>3719.083333</td>\n",
       "      <td>5.250000</td>\n",
       "      <td>6934</td>\n",
       "      <td>70858.833330</td>\n",
       "    </tr>\n",
       "    <tr>\n",
       "      <th>6</th>\n",
       "      <td>6</td>\n",
       "      <td>2010</td>\n",
       "      <td>AL</td>\n",
       "      <td>bibb</td>\n",
       "      <td>1020.416667</td>\n",
       "      <td>11.425000</td>\n",
       "      <td>658</td>\n",
       "      <td>8934.000000</td>\n",
       "    </tr>\n",
       "    <tr>\n",
       "      <th>7</th>\n",
       "      <td>7</td>\n",
       "      <td>2011</td>\n",
       "      <td>AL</td>\n",
       "      <td>bibb</td>\n",
       "      <td>937.250000</td>\n",
       "      <td>10.475000</td>\n",
       "      <td>354</td>\n",
       "      <td>8933.416667</td>\n",
       "    </tr>\n",
       "    <tr>\n",
       "      <th>8</th>\n",
       "      <td>8</td>\n",
       "      <td>2012</td>\n",
       "      <td>AL</td>\n",
       "      <td>bibb</td>\n",
       "      <td>750.666667</td>\n",
       "      <td>8.541667</td>\n",
       "      <td>608</td>\n",
       "      <td>8797.416667</td>\n",
       "    </tr>\n",
       "    <tr>\n",
       "      <th>9</th>\n",
       "      <td>9</td>\n",
       "      <td>2013</td>\n",
       "      <td>AL</td>\n",
       "      <td>bibb</td>\n",
       "      <td>689.333333</td>\n",
       "      <td>7.916667</td>\n",
       "      <td>553</td>\n",
       "      <td>8705.666667</td>\n",
       "    </tr>\n",
       "  </tbody>\n",
       "</table>\n",
       "</div>"
      ],
      "text/plain": [
       "   Unnamed: 0  Year State County  Average Number Unemployed  \\\n",
       "0           0  2010    AL    lee                6005.750000   \n",
       "1           1  2011    AL    lee                5503.583333   \n",
       "2           2  2012    AL    lee                4671.250000   \n",
       "3           3  2013    AL    lee                4144.250000   \n",
       "4           4  2014    AL    lee                3987.000000   \n",
       "5           5  2015    AL    lee                3719.083333   \n",
       "6           6  2010    AL   bibb                1020.416667   \n",
       "7           7  2011    AL   bibb                 937.250000   \n",
       "8           8  2012    AL   bibb                 750.666667   \n",
       "9           9  2013    AL   bibb                 689.333333   \n",
       "\n",
       "   Average Percent Unemployed  Number of Crimes  Total Labor Force  \n",
       "0                    9.025000              7107       66764.166670  \n",
       "1                    8.050000              9148       68315.500000  \n",
       "2                    6.766667              8036       68918.250000  \n",
       "3                    5.858333              7441       70523.000000  \n",
       "4                    5.566667              7671       71372.166670  \n",
       "5                    5.250000              6934       70858.833330  \n",
       "6                   11.425000               658        8934.000000  \n",
       "7                   10.475000               354        8933.416667  \n",
       "8                    8.541667               608        8797.416667  \n",
       "9                    7.916667               553        8705.666667  "
      ]
     },
     "execution_count": 40,
     "metadata": {},
     "output_type": "execute_result"
    }
   ],
   "source": [
    "data.head(10)"
   ]
  },
  {
   "cell_type": "code",
   "execution_count": null,
   "metadata": {},
   "outputs": [],
   "source": []
  }
 ],
 "metadata": {
  "kernelspec": {
   "display_name": "Python 3",
   "language": "python",
   "name": "python3"
  },
  "language_info": {
   "codemirror_mode": {
    "name": "ipython",
    "version": 3
   },
   "file_extension": ".py",
   "mimetype": "text/x-python",
   "name": "python",
   "nbconvert_exporter": "python",
   "pygments_lexer": "ipython3",
   "version": "3.6.6"
  }
 },
 "nbformat": 4,
 "nbformat_minor": 2
}
