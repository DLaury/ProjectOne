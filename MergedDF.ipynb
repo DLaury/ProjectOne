{
 "cells": [
  {
   "cell_type": "code",
   "execution_count": 21,
   "metadata": {},
   "outputs": [],
   "source": [
    "import pandas as pd\n",
    "import matplotlib.pyplot as plt\n",
    "from scipy import stats\n",
    "import numpy as np\n",
    "import seaborn as sns"
   ]
  },
  {
   "cell_type": "code",
   "execution_count": 22,
   "metadata": {},
   "outputs": [],
   "source": [
    "# import csvs\n",
    "readCrime = pd.read_csv('crimedata2.csv')\n",
    "readCounty = pd.read_csv('NumberUnemployed.csv')\n",
    "secondCrime = pd.read_csv('CrimeData.csv')\n",
    "unemployment = pd.read_csv('PercentUnemployed.csv')\n",
    "laborForce = pd.read_csv('TotalEmployment.csv')"
   ]
  },
  {
   "cell_type": "code",
   "execution_count": 23,
   "metadata": {},
   "outputs": [
    {
     "data": {
      "text/html": [
       "<div>\n",
       "<style scoped>\n",
       "    .dataframe tbody tr th:only-of-type {\n",
       "        vertical-align: middle;\n",
       "    }\n",
       "\n",
       "    .dataframe tbody tr th {\n",
       "        vertical-align: top;\n",
       "    }\n",
       "\n",
       "    .dataframe thead th {\n",
       "        text-align: right;\n",
       "    }\n",
       "</style>\n",
       "<table border=\"1\" class=\"dataframe\">\n",
       "  <thead>\n",
       "    <tr style=\"text-align: right;\">\n",
       "      <th></th>\n",
       "      <th>Year</th>\n",
       "      <th>State</th>\n",
       "      <th>County</th>\n",
       "      <th>Average Number Unemployed</th>\n",
       "      <th>Average Percent Unemployed</th>\n",
       "      <th>Number of Crimes</th>\n",
       "      <th>Total Labor Force</th>\n",
       "    </tr>\n",
       "  </thead>\n",
       "  <tbody>\n",
       "    <tr>\n",
       "      <th>0</th>\n",
       "      <td>2010</td>\n",
       "      <td>AL</td>\n",
       "      <td>lee</td>\n",
       "      <td>6005.750000</td>\n",
       "      <td>9.025000</td>\n",
       "      <td>7107</td>\n",
       "      <td>66764.16667</td>\n",
       "    </tr>\n",
       "    <tr>\n",
       "      <th>1</th>\n",
       "      <td>2011</td>\n",
       "      <td>AL</td>\n",
       "      <td>lee</td>\n",
       "      <td>5503.583333</td>\n",
       "      <td>8.050000</td>\n",
       "      <td>9148</td>\n",
       "      <td>68315.50000</td>\n",
       "    </tr>\n",
       "    <tr>\n",
       "      <th>2</th>\n",
       "      <td>2012</td>\n",
       "      <td>AL</td>\n",
       "      <td>lee</td>\n",
       "      <td>4671.250000</td>\n",
       "      <td>6.766667</td>\n",
       "      <td>8036</td>\n",
       "      <td>68918.25000</td>\n",
       "    </tr>\n",
       "    <tr>\n",
       "      <th>3</th>\n",
       "      <td>2013</td>\n",
       "      <td>AL</td>\n",
       "      <td>lee</td>\n",
       "      <td>4144.250000</td>\n",
       "      <td>5.858333</td>\n",
       "      <td>7441</td>\n",
       "      <td>70523.00000</td>\n",
       "    </tr>\n",
       "    <tr>\n",
       "      <th>4</th>\n",
       "      <td>2014</td>\n",
       "      <td>AL</td>\n",
       "      <td>lee</td>\n",
       "      <td>3987.000000</td>\n",
       "      <td>5.566667</td>\n",
       "      <td>7671</td>\n",
       "      <td>71372.16667</td>\n",
       "    </tr>\n",
       "  </tbody>\n",
       "</table>\n",
       "</div>"
      ],
      "text/plain": [
       "   Year State County  Average Number Unemployed  Average Percent Unemployed  \\\n",
       "0  2010    AL    lee                6005.750000                    9.025000   \n",
       "1  2011    AL    lee                5503.583333                    8.050000   \n",
       "2  2012    AL    lee                4671.250000                    6.766667   \n",
       "3  2013    AL    lee                4144.250000                    5.858333   \n",
       "4  2014    AL    lee                3987.000000                    5.566667   \n",
       "\n",
       "   Number of Crimes  Total Labor Force  \n",
       "0              7107        66764.16667  \n",
       "1              9148        68315.50000  \n",
       "2              8036        68918.25000  \n",
       "3              7441        70523.00000  \n",
       "4              7671        71372.16667  "
      ]
     },
     "execution_count": 23,
     "metadata": {},
     "output_type": "execute_result"
    }
   ],
   "source": [
    "# Convert county names to lower case\n",
    "readCrime['county'] = readCrime['county'].str.lower()\n",
    "secondCrime['county'] = secondCrime['county'].str.lower()\n",
    "readCounty['county'] = readCounty['county'].str.lower()\n",
    "laborForce['county'] = laborForce['county'].str.lower()\n",
    "unemployment['county'] = unemployment['county'].str.lower()\n",
    "\n",
    "# Remove space and county from county list\n",
    "readCounty['county'] = readCounty['county'].str.replace(\" county\", \"\")\n",
    "laborForce['county'] = laborForce['county'].str.replace(\" county\", \"\")\n",
    "unemployment['county'] = unemployment['county'].str.replace(\" county\", \"\")\n",
    "\n",
    "# Add two crime dataframes together and reset index\n",
    "combCrime = readCrime.append(secondCrime)\n",
    "combCrime.reset_index(inplace=True)\n",
    "\n",
    "# Merge county dataframes with county dataframe, percents with that, and population with that\n",
    "mergedDF = pd.merge(readCounty, combCrime, on=['state','county','Year'], how='inner')\n",
    "percentDF = pd.merge(mergedDF, unemployment, on=['state','county','Year'])\n",
    "\n",
    "# Grab only columns we want\n",
    "finalDF = pd.merge(percentDF, laborForce, on=['state','county','Year'])\n",
    "\n",
    "# Make Pretty\n",
    "selectColumnsDF = finalDF[['Year', 'state', 'county', 'Average (Monthly) Number Unemployed', \n",
    "                         'Average (Monthly) Percent Unemployed', 'count', 'Average Total Employment']]\n",
    "formattedDF = selectColumnsDF.rename(columns={'state': 'State', 'county': 'County', \n",
    "                            'Average (Monthly) Number Unemployed': 'Average Number Unemployed',\n",
    "                           'Average (Monthly) Percent Unemployed': 'Average Percent Unemployed',\n",
    "                           'count': 'Number of Crimes', 'Average Total Employment': 'Total Labor Force'})\n",
    "\n",
    "# Show\n",
    "formattedDF.head()"
   ]
  },
  {
   "cell_type": "code",
   "execution_count": 24,
   "metadata": {},
   "outputs": [],
   "source": [
    "formattedDF.to_csv(\"EmploymentVsCrime.csv\")"
   ]
  },
  {
   "cell_type": "code",
   "execution_count": 25,
   "metadata": {},
   "outputs": [
    {
     "data": {
      "text/html": [
       "<div>\n",
       "<style scoped>\n",
       "    .dataframe tbody tr th:only-of-type {\n",
       "        vertical-align: middle;\n",
       "    }\n",
       "\n",
       "    .dataframe tbody tr th {\n",
       "        vertical-align: top;\n",
       "    }\n",
       "\n",
       "    .dataframe thead th {\n",
       "        text-align: right;\n",
       "    }\n",
       "</style>\n",
       "<table border=\"1\" class=\"dataframe\">\n",
       "  <thead>\n",
       "    <tr style=\"text-align: right;\">\n",
       "      <th></th>\n",
       "      <th>Year</th>\n",
       "      <th>State</th>\n",
       "      <th>County</th>\n",
       "      <th>Average Number Unemployed</th>\n",
       "      <th>Average Percent Unemployed</th>\n",
       "      <th>Number of Crimes</th>\n",
       "      <th>Total Labor Force</th>\n",
       "      <th>Crimes Per 100 Workers</th>\n",
       "    </tr>\n",
       "  </thead>\n",
       "  <tbody>\n",
       "    <tr>\n",
       "      <th>0</th>\n",
       "      <td>2010</td>\n",
       "      <td>AL</td>\n",
       "      <td>lee</td>\n",
       "      <td>6005.750000</td>\n",
       "      <td>9.025000</td>\n",
       "      <td>7107</td>\n",
       "      <td>66764.16667</td>\n",
       "      <td>10.644932</td>\n",
       "    </tr>\n",
       "    <tr>\n",
       "      <th>1</th>\n",
       "      <td>2011</td>\n",
       "      <td>AL</td>\n",
       "      <td>lee</td>\n",
       "      <td>5503.583333</td>\n",
       "      <td>8.050000</td>\n",
       "      <td>9148</td>\n",
       "      <td>68315.50000</td>\n",
       "      <td>13.390812</td>\n",
       "    </tr>\n",
       "    <tr>\n",
       "      <th>2</th>\n",
       "      <td>2012</td>\n",
       "      <td>AL</td>\n",
       "      <td>lee</td>\n",
       "      <td>4671.250000</td>\n",
       "      <td>6.766667</td>\n",
       "      <td>8036</td>\n",
       "      <td>68918.25000</td>\n",
       "      <td>11.660192</td>\n",
       "    </tr>\n",
       "    <tr>\n",
       "      <th>3</th>\n",
       "      <td>2013</td>\n",
       "      <td>AL</td>\n",
       "      <td>lee</td>\n",
       "      <td>4144.250000</td>\n",
       "      <td>5.858333</td>\n",
       "      <td>7441</td>\n",
       "      <td>70523.00000</td>\n",
       "      <td>10.551168</td>\n",
       "    </tr>\n",
       "    <tr>\n",
       "      <th>4</th>\n",
       "      <td>2014</td>\n",
       "      <td>AL</td>\n",
       "      <td>lee</td>\n",
       "      <td>3987.000000</td>\n",
       "      <td>5.566667</td>\n",
       "      <td>7671</td>\n",
       "      <td>71372.16667</td>\n",
       "      <td>10.747887</td>\n",
       "    </tr>\n",
       "  </tbody>\n",
       "</table>\n",
       "</div>"
      ],
      "text/plain": [
       "   Year State County  Average Number Unemployed  Average Percent Unemployed  \\\n",
       "0  2010    AL    lee                6005.750000                    9.025000   \n",
       "1  2011    AL    lee                5503.583333                    8.050000   \n",
       "2  2012    AL    lee                4671.250000                    6.766667   \n",
       "3  2013    AL    lee                4144.250000                    5.858333   \n",
       "4  2014    AL    lee                3987.000000                    5.566667   \n",
       "\n",
       "   Number of Crimes  Total Labor Force  Crimes Per 100 Workers  \n",
       "0              7107        66764.16667               10.644932  \n",
       "1              9148        68315.50000               13.390812  \n",
       "2              8036        68918.25000               11.660192  \n",
       "3              7441        70523.00000               10.551168  \n",
       "4              7671        71372.16667               10.747887  "
      ]
     },
     "execution_count": 25,
     "metadata": {},
     "output_type": "execute_result"
    }
   ],
   "source": [
    "formattedDF['Crimes Per 100 Workers'] = (formattedDF['Number of Crimes'] / formattedDF['Total Labor Force'])*100\n",
    "formattedDF.head()"
   ]
  },
  {
   "cell_type": "code",
   "execution_count": 26,
   "metadata": {},
   "outputs": [
    {
     "data": {
      "text/html": [
       "<div>\n",
       "<style scoped>\n",
       "    .dataframe tbody tr th:only-of-type {\n",
       "        vertical-align: middle;\n",
       "    }\n",
       "\n",
       "    .dataframe tbody tr th {\n",
       "        vertical-align: top;\n",
       "    }\n",
       "\n",
       "    .dataframe thead th {\n",
       "        text-align: right;\n",
       "    }\n",
       "</style>\n",
       "<table border=\"1\" class=\"dataframe\">\n",
       "  <thead>\n",
       "    <tr style=\"text-align: right;\">\n",
       "      <th></th>\n",
       "      <th>Year</th>\n",
       "      <th>Average Number Unemployed</th>\n",
       "      <th>Average Percent Unemployed</th>\n",
       "      <th>Number of Crimes</th>\n",
       "      <th>Total Labor Force</th>\n",
       "      <th>Crimes Per 100 Workers</th>\n",
       "    </tr>\n",
       "  </thead>\n",
       "  <tbody>\n",
       "    <tr>\n",
       "      <th>count</th>\n",
       "      <td>17244.000000</td>\n",
       "      <td>17244.000000</td>\n",
       "      <td>17244.000000</td>\n",
       "      <td>17244.000000</td>\n",
       "      <td>1.724400e+04</td>\n",
       "      <td>17244.000000</td>\n",
       "    </tr>\n",
       "    <tr>\n",
       "      <th>mean</th>\n",
       "      <td>2012.500000</td>\n",
       "      <td>3714.109724</td>\n",
       "      <td>7.436269</td>\n",
       "      <td>5107.364417</td>\n",
       "      <td>4.897195e+04</td>\n",
       "      <td>8.225234</td>\n",
       "    </tr>\n",
       "    <tr>\n",
       "      <th>std</th>\n",
       "      <td>1.707875</td>\n",
       "      <td>14336.030408</td>\n",
       "      <td>3.001637</td>\n",
       "      <td>19626.383034</td>\n",
       "      <td>1.636862e+05</td>\n",
       "      <td>5.895747</td>\n",
       "    </tr>\n",
       "    <tr>\n",
       "      <th>min</th>\n",
       "      <td>2010.000000</td>\n",
       "      <td>3.750000</td>\n",
       "      <td>1.108333</td>\n",
       "      <td>0.000000</td>\n",
       "      <td>6.616667e+01</td>\n",
       "      <td>0.000000</td>\n",
       "    </tr>\n",
       "    <tr>\n",
       "      <th>25%</th>\n",
       "      <td>2011.000000</td>\n",
       "      <td>344.500000</td>\n",
       "      <td>5.191667</td>\n",
       "      <td>226.000000</td>\n",
       "      <td>4.940687e+03</td>\n",
       "      <td>3.987088</td>\n",
       "    </tr>\n",
       "    <tr>\n",
       "      <th>50%</th>\n",
       "      <td>2012.500000</td>\n",
       "      <td>878.041667</td>\n",
       "      <td>7.070833</td>\n",
       "      <td>914.000000</td>\n",
       "      <td>1.140600e+04</td>\n",
       "      <td>7.180384</td>\n",
       "    </tr>\n",
       "    <tr>\n",
       "      <th>75%</th>\n",
       "      <td>2014.000000</td>\n",
       "      <td>2361.125000</td>\n",
       "      <td>9.258333</td>\n",
       "      <td>3079.000000</td>\n",
       "      <td>3.100508e+04</td>\n",
       "      <td>11.398183</td>\n",
       "    </tr>\n",
       "    <tr>\n",
       "      <th>max</th>\n",
       "      <td>2015.000000</td>\n",
       "      <td>615100.666700</td>\n",
       "      <td>28.850000</td>\n",
       "      <td>583109.000000</td>\n",
       "      <td>5.004087e+06</td>\n",
       "      <td>147.560641</td>\n",
       "    </tr>\n",
       "  </tbody>\n",
       "</table>\n",
       "</div>"
      ],
      "text/plain": [
       "               Year  Average Number Unemployed  Average Percent Unemployed  \\\n",
       "count  17244.000000               17244.000000                17244.000000   \n",
       "mean    2012.500000                3714.109724                    7.436269   \n",
       "std        1.707875               14336.030408                    3.001637   \n",
       "min     2010.000000                   3.750000                    1.108333   \n",
       "25%     2011.000000                 344.500000                    5.191667   \n",
       "50%     2012.500000                 878.041667                    7.070833   \n",
       "75%     2014.000000                2361.125000                    9.258333   \n",
       "max     2015.000000              615100.666700                   28.850000   \n",
       "\n",
       "       Number of Crimes  Total Labor Force  Crimes Per 100 Workers  \n",
       "count      17244.000000       1.724400e+04            17244.000000  \n",
       "mean        5107.364417       4.897195e+04                8.225234  \n",
       "std        19626.383034       1.636862e+05                5.895747  \n",
       "min            0.000000       6.616667e+01                0.000000  \n",
       "25%          226.000000       4.940687e+03                3.987088  \n",
       "50%          914.000000       1.140600e+04                7.180384  \n",
       "75%         3079.000000       3.100508e+04               11.398183  \n",
       "max       583109.000000       5.004087e+06              147.560641  "
      ]
     },
     "execution_count": 26,
     "metadata": {},
     "output_type": "execute_result"
    }
   ],
   "source": [
    "formattedDF.describe()"
   ]
  },
  {
   "cell_type": "code",
   "execution_count": 27,
   "metadata": {},
   "outputs": [],
   "source": [
    "year2010DF = formattedDF[formattedDF['Year']==2010]\n",
    "year2011DF = formattedDF[formattedDF['Year']==2011]\n",
    "year2012DF = formattedDF[formattedDF['Year']==2012]\n",
    "year2013DF = formattedDF[formattedDF['Year']==2013]\n",
    "year2014DF = formattedDF[formattedDF['Year']==2014]\n",
    "year2015DF = formattedDF[formattedDF['Year']==2015]"
   ]
  },
  {
   "cell_type": "code",
   "execution_count": 28,
   "metadata": {},
   "outputs": [
    {
     "name": "stdout",
     "output_type": "stream",
     "text": [
      "Slope = 0.6064700355909454\n",
      "R Value = 0.3320424473316625\n",
      "P Value = 6.27647505810412e-75\n"
     ]
    },
    {
     "data": {
      "image/png": "[encoded data removed]",
      "text/plain": [
       "<Figure size 432x288 with 1 Axes>"
      ]
     },
     "metadata": {
      "needs_background": "light"
     },
     "output_type": "display_data"
    }
   ],
   "source": [
    "plt.scatter(year2010DF['Average Percent Unemployed'], year2010DF['Crimes Per 100 Workers'])\n",
    "x = year2010DF['Average Percent Unemployed']\n",
    "y = year2010DF['Crimes Per 100 Workers']\n",
    "slope, intercept, r_value, p_value, std_err = stats.linregress(x,y)\n",
    "line = slope*x+intercept\n",
    "\n",
    "plt.plot(x,y,'o', x, line)\n",
    "plt.ylim(0,100)\n",
    "print(f\"Slope = {slope}\")\n",
    "print(f\"R Value = {r_value}\")\n",
    "print(f\"P Value = {p_value}\")"
   ]
  },
  {
   "cell_type": "code",
   "execution_count": 29,
   "metadata": {},
   "outputs": [
    {
     "name": "stdout",
     "output_type": "stream",
     "text": [
      "Slope = 0.7403984795830282\n",
      "R Value = 0.37750956685543813\n",
      "P Value = 5.1213866132828935e-98\n"
     ]
    },
    {
     "data": {
      "image/png": "[encoded data removed]",
      "text/plain": [
       "<Figure size 432x288 with 1 Axes>"
      ]
     },
     "metadata": {
      "needs_background": "light"
     },
     "output_type": "display_data"
    }
   ],
   "source": [
    "plt.scatter(year2011DF['Average Percent Unemployed'], year2011DF['Crimes Per 100 Workers'])\n",
    "x2 = year2011DF['Average Percent Unemployed']\n",
    "y2 = year2011DF['Crimes Per 100 Workers']\n",
    "slope, intercept, r_value, p_value, std_err = stats.linregress(x2,y2)\n",
    "line2 = slope*x2+intercept\n",
    "\n",
    "plt.plot(x2,y2,'o', x2, line2)\n",
    "plt.ylim(0,100)\n",
    "print(f\"Slope = {slope}\")\n",
    "print(f\"R Value = {r_value}\")\n",
    "print(f\"P Value = {p_value}\")"
   ]
  },
  {
   "cell_type": "code",
   "execution_count": 30,
   "metadata": {},
   "outputs": [
    {
     "name": "stdout",
     "output_type": "stream",
     "text": [
      "Slope = 0.7385440629885409\n",
      "R Value = 0.35187436248489085\n",
      "P Value = 1.557918763945471e-84\n"
     ]
    },
    {
     "data": {
      "image/png": "[encoded data removed]",
      "text/plain": [
       "<Figure size 432x288 with 1 Axes>"
      ]
     },
     "metadata": {
      "needs_background": "light"
     },
     "output_type": "display_data"
    }
   ],
   "source": [
    "plt.scatter(year2012DF['Average Percent Unemployed'], year2012DF['Crimes Per 100 Workers'])\n",
    "x3 = year2012DF['Average Percent Unemployed']\n",
    "y3 = year2012DF['Crimes Per 100 Workers']\n",
    "slope, intercept, r_value, p_value, std_err = stats.linregress(x3,y3)\n",
    "line3 = slope*x3+intercept\n",
    "\n",
    "plt.plot(x3,y3,'o', x3, line3)\n",
    "plt.ylim(0,100)\n",
    "print(f\"Slope = {slope}\")\n",
    "print(f\"R Value = {r_value}\")\n",
    "print(f\"P Value = {p_value}\")"
   ]
  },
  {
   "cell_type": "code",
   "execution_count": 31,
   "metadata": {},
   "outputs": [
    {
     "name": "stdout",
     "output_type": "stream",
     "text": [
      "Slope = 0.6177716021936553\n",
      "R Value = 0.2850124518317378\n",
      "P Value = 7.582337529151424e-55\n"
     ]
    },
    {
     "data": {
      "image/png": "[encoded data removed]",
      "text/plain": [
       "<Figure size 432x288 with 1 Axes>"
      ]
     },
     "metadata": {
      "needs_background": "light"
     },
     "output_type": "display_data"
    }
   ],
   "source": [
    "plt.scatter(year2013DF['Average Percent Unemployed'], year2013DF['Crimes Per 100 Workers'])\n",
    "x3 = year2013DF['Average Percent Unemployed']\n",
    "y3 = year2013DF['Crimes Per 100 Workers']\n",
    "slope, intercept, r_value, p_value, std_err = stats.linregress(x3,y3)\n",
    "line3 = slope*x3+intercept\n",
    "\n",
    "plt.plot(x3,y3,'o', x3, line3)\n",
    "plt.ylim(0,100)\n",
    "print(f\"Slope = {slope}\")\n",
    "print(f\"R Value = {r_value}\")\n",
    "print(f\"P Value = {p_value}\")"
   ]
  },
  {
   "cell_type": "code",
   "execution_count": 32,
   "metadata": {},
   "outputs": [
    {
     "name": "stdout",
     "output_type": "stream",
     "text": [
      "Slope = 0.7436763424762048\n",
      "R Value = 0.28446793275492044\n",
      "P Value = 1.2333260286598283e-54\n"
     ]
    },
    {
     "data": {
      "image/png": "[encoded data removed]",
      "text/plain": [
       "<Figure size 432x288 with 1 Axes>"
      ]
     },
     "metadata": {
      "needs_background": "light"
     },
     "output_type": "display_data"
    }
   ],
   "source": [
    "plt.scatter(year2014DF['Average Percent Unemployed'], year2014DF['Crimes Per 100 Workers'])\n",
    "x4 = year2014DF['Average Percent Unemployed']\n",
    "y4 = year2014DF['Crimes Per 100 Workers']\n",
    "slope, intercept, r_value, p_value, std_err = stats.linregress(x4,y4)\n",
    "line4 = slope*x4+intercept\n",
    "\n",
    "plt.plot(x4,y4,'o', x4, line4)\n",
    "plt.ylim(0,100)\n",
    "print(f\"Slope = {slope}\")\n",
    "print(f\"R Value = {r_value}\")\n",
    "print(f\"P Value = {p_value}\")"
   ]
  },
  {
   "cell_type": "code",
   "execution_count": 33,
   "metadata": {},
   "outputs": [
    {
     "name": "stdout",
     "output_type": "stream",
     "text": [
      "Slope = 0.7775635564513047\n",
      "R Value = 0.2524658986760794\n",
      "P Value = 4.947563660319415e-43\n"
     ]
    },
    {
     "data": {
      "image/png": "[encoded data removed]",
      "text/plain": [
       "<Figure size 432x288 with 1 Axes>"
      ]
     },
     "metadata": {
      "needs_background": "light"
     },
     "output_type": "display_data"
    }
   ],
   "source": [
    "plt.scatter(year2015DF['Average Percent Unemployed'], year2015DF['Crimes Per 100 Workers'])\n",
    "x5 = year2015DF['Average Percent Unemployed']\n",
    "y5 = year2015DF['Crimes Per 100 Workers']\n",
    "slope, intercept, r_value, p_value, std_err = stats.linregress(x5,y5)\n",
    "line5 = slope*x5+intercept\n",
    "\n",
    "plt.plot(x5,y5,'o', x5, line5)\n",
    "plt.ylim(0,100)\n",
    "print(f\"Slope = {slope}\")\n",
    "print(f\"R Value = {r_value}\")\n",
    "print(f\"P Value = {p_value}\")"
   ]
  },
  {
   "cell_type": "code",
   "execution_count": 34,
   "metadata": {},
   "outputs": [
    {
     "name": "stderr",
     "output_type": "stream",
     "text": [
      "/anaconda3/envs/PythonData/lib/python3.6/site-packages/ipykernel_launcher.py:1: SettingWithCopyWarning: \n",
      "A value is trying to be set on a copy of a slice from a DataFrame.\n",
      "Try using .loc[row_indexer,col_indexer] = value instead\n",
      "\n",
      "See the caveats in the documentation: http://pandas.pydata.org/pandas-docs/stable/indexing.html#indexing-view-versus-copy\n",
      "  \"\"\"Entry point for launching an IPython kernel.\n",
      "/anaconda3/envs/PythonData/lib/python3.6/site-packages/ipykernel_launcher.py:2: SettingWithCopyWarning: \n",
      "A value is trying to be set on a copy of a slice from a DataFrame.\n",
      "Try using .loc[row_indexer,col_indexer] = value instead\n",
      "\n",
      "See the caveats in the documentation: http://pandas.pydata.org/pandas-docs/stable/indexing.html#indexing-view-versus-copy\n",
      "  \n",
      "/anaconda3/envs/PythonData/lib/python3.6/site-packages/ipykernel_launcher.py:3: SettingWithCopyWarning: \n",
      "A value is trying to be set on a copy of a slice from a DataFrame.\n",
      "Try using .loc[row_indexer,col_indexer] = value instead\n",
      "\n",
      "See the caveats in the documentation: http://pandas.pydata.org/pandas-docs/stable/indexing.html#indexing-view-versus-copy\n",
      "  This is separate from the ipykernel package so we can avoid doing imports until\n",
      "/anaconda3/envs/PythonData/lib/python3.6/site-packages/ipykernel_launcher.py:4: SettingWithCopyWarning: \n",
      "A value is trying to be set on a copy of a slice from a DataFrame.\n",
      "Try using .loc[row_indexer,col_indexer] = value instead\n",
      "\n",
      "See the caveats in the documentation: http://pandas.pydata.org/pandas-docs/stable/indexing.html#indexing-view-versus-copy\n",
      "  after removing the cwd from sys.path.\n",
      "/anaconda3/envs/PythonData/lib/python3.6/site-packages/ipykernel_launcher.py:5: SettingWithCopyWarning: \n",
      "A value is trying to be set on a copy of a slice from a DataFrame.\n",
      "Try using .loc[row_indexer,col_indexer] = value instead\n",
      "\n",
      "See the caveats in the documentation: http://pandas.pydata.org/pandas-docs/stable/indexing.html#indexing-view-versus-copy\n",
      "  \"\"\"\n",
      "/anaconda3/envs/PythonData/lib/python3.6/site-packages/ipykernel_launcher.py:6: SettingWithCopyWarning: \n",
      "A value is trying to be set on a copy of a slice from a DataFrame.\n",
      "Try using .loc[row_indexer,col_indexer] = value instead\n",
      "\n",
      "See the caveats in the documentation: http://pandas.pydata.org/pandas-docs/stable/indexing.html#indexing-view-versus-copy\n",
      "  \n"
     ]
    },
    {
     "data": {
      "text/html": [
       "<div>\n",
       "<style scoped>\n",
       "    .dataframe tbody tr th:only-of-type {\n",
       "        vertical-align: middle;\n",
       "    }\n",
       "\n",
       "    .dataframe tbody tr th {\n",
       "        vertical-align: top;\n",
       "    }\n",
       "\n",
       "    .dataframe thead th {\n",
       "        text-align: right;\n",
       "    }\n",
       "</style>\n",
       "<table border=\"1\" class=\"dataframe\">\n",
       "  <thead>\n",
       "    <tr style=\"text-align: right;\">\n",
       "      <th></th>\n",
       "      <th>Year</th>\n",
       "      <th>State</th>\n",
       "      <th>County</th>\n",
       "      <th>Average Number Unemployed</th>\n",
       "      <th>Average Percent Unemployed</th>\n",
       "      <th>Number of Crimes</th>\n",
       "      <th>Total Labor Force</th>\n",
       "      <th>Crimes Per 100 Workers</th>\n",
       "      <th>Crimes Per Worker</th>\n",
       "    </tr>\n",
       "  </thead>\n",
       "  <tbody>\n",
       "    <tr>\n",
       "      <th>0</th>\n",
       "      <td>2010</td>\n",
       "      <td>AL</td>\n",
       "      <td>lee</td>\n",
       "      <td>6005.750000</td>\n",
       "      <td>9.025000</td>\n",
       "      <td>7107</td>\n",
       "      <td>66764.166670</td>\n",
       "      <td>10.644932</td>\n",
       "      <td>0.106449</td>\n",
       "    </tr>\n",
       "    <tr>\n",
       "      <th>6</th>\n",
       "      <td>2010</td>\n",
       "      <td>AL</td>\n",
       "      <td>bibb</td>\n",
       "      <td>1020.416667</td>\n",
       "      <td>11.425000</td>\n",
       "      <td>658</td>\n",
       "      <td>8934.000000</td>\n",
       "      <td>7.365122</td>\n",
       "      <td>0.073651</td>\n",
       "    </tr>\n",
       "    <tr>\n",
       "      <th>12</th>\n",
       "      <td>2010</td>\n",
       "      <td>AL</td>\n",
       "      <td>clay</td>\n",
       "      <td>845.916667</td>\n",
       "      <td>14.466667</td>\n",
       "      <td>208</td>\n",
       "      <td>5851.000000</td>\n",
       "      <td>3.554948</td>\n",
       "      <td>0.035549</td>\n",
       "    </tr>\n",
       "    <tr>\n",
       "      <th>18</th>\n",
       "      <td>2010</td>\n",
       "      <td>AL</td>\n",
       "      <td>dale</td>\n",
       "      <td>1947.750000</td>\n",
       "      <td>8.833333</td>\n",
       "      <td>2160</td>\n",
       "      <td>22071.250000</td>\n",
       "      <td>9.786487</td>\n",
       "      <td>0.097865</td>\n",
       "    </tr>\n",
       "    <tr>\n",
       "      <th>24</th>\n",
       "      <td>2010</td>\n",
       "      <td>AL</td>\n",
       "      <td>hale</td>\n",
       "      <td>971.666667</td>\n",
       "      <td>15.091667</td>\n",
       "      <td>362</td>\n",
       "      <td>6445.083333</td>\n",
       "      <td>5.616685</td>\n",
       "      <td>0.056167</td>\n",
       "    </tr>\n",
       "  </tbody>\n",
       "</table>\n",
       "</div>"
      ],
      "text/plain": [
       "    Year State County  Average Number Unemployed  Average Percent Unemployed  \\\n",
       "0   2010    AL    lee                6005.750000                    9.025000   \n",
       "6   2010    AL   bibb                1020.416667                   11.425000   \n",
       "12  2010    AL   clay                 845.916667                   14.466667   \n",
       "18  2010    AL   dale                1947.750000                    8.833333   \n",
       "24  2010    AL   hale                 971.666667                   15.091667   \n",
       "\n",
       "    Number of Crimes  Total Labor Force  Crimes Per 100 Workers  \\\n",
       "0               7107       66764.166670               10.644932   \n",
       "6                658        8934.000000                7.365122   \n",
       "12               208        5851.000000                3.554948   \n",
       "18              2160       22071.250000                9.786487   \n",
       "24               362        6445.083333                5.616685   \n",
       "\n",
       "    Crimes Per Worker  \n",
       "0            0.106449  \n",
       "6            0.073651  \n",
       "12           0.035549  \n",
       "18           0.097865  \n",
       "24           0.056167  "
      ]
     },
     "execution_count": 34,
     "metadata": {},
     "output_type": "execute_result"
    }
   ],
   "source": [
    "year2010DF['Crimes Per Worker'] = year2010DF['Number of Crimes'] / year2010DF['Total Labor Force']\n",
    "year2011DF['Crimes Per Worker'] = year2011DF['Number of Crimes'] / year2011DF['Total Labor Force']\n",
    "year2012DF['Crimes Per Worker'] = year2012DF['Number of Crimes'] / year2012DF['Total Labor Force']\n",
    "year2013DF['Crimes Per Worker'] = year2013DF['Number of Crimes'] / year2013DF['Total Labor Force']\n",
    "year2014DF['Crimes Per Worker'] = year2014DF['Number of Crimes'] / year2014DF['Total Labor Force']\n",
    "year2015DF['Crimes Per Worker'] = year2015DF['Number of Crimes'] / year2015DF['Total Labor Force']\n",
    "year2010DF.head()"
   ]
  },
  {
   "cell_type": "code",
   "execution_count": 35,
   "metadata": {},
   "outputs": [
    {
     "data": {
      "text/html": [
       "<div>\n",
       "<style scoped>\n",
       "    .dataframe tbody tr th:only-of-type {\n",
       "        vertical-align: middle;\n",
       "    }\n",
       "\n",
       "    .dataframe tbody tr th {\n",
       "        vertical-align: top;\n",
       "    }\n",
       "\n",
       "    .dataframe thead th {\n",
       "        text-align: right;\n",
       "    }\n",
       "</style>\n",
       "<table border=\"1\" class=\"dataframe\">\n",
       "  <thead>\n",
       "    <tr style=\"text-align: right;\">\n",
       "      <th></th>\n",
       "      <th>Year</th>\n",
       "      <th>State</th>\n",
       "      <th>County</th>\n",
       "      <th>Average Number Unemployed</th>\n",
       "      <th>Average Percent Unemployed</th>\n",
       "      <th>Number of Crimes</th>\n",
       "      <th>Total Labor Force</th>\n",
       "      <th>Crimes Per 100 Workers</th>\n",
       "      <th>Crimes Per Worker</th>\n",
       "    </tr>\n",
       "  </thead>\n",
       "  <tbody>\n",
       "    <tr>\n",
       "      <th>10937</th>\n",
       "      <td>2015</td>\n",
       "      <td>NM</td>\n",
       "      <td>hidalgo</td>\n",
       "      <td>131.500000</td>\n",
       "      <td>6.191667</td>\n",
       "      <td>3138</td>\n",
       "      <td>2126.583333</td>\n",
       "      <td>147.560641</td>\n",
       "      <td>1.475606</td>\n",
       "    </tr>\n",
       "    <tr>\n",
       "      <th>2453</th>\n",
       "      <td>2015</td>\n",
       "      <td>GA</td>\n",
       "      <td>murray</td>\n",
       "      <td>1182.833333</td>\n",
       "      <td>7.358333</td>\n",
       "      <td>8250</td>\n",
       "      <td>16069.583330</td>\n",
       "      <td>51.339228</td>\n",
       "      <td>0.513392</td>\n",
       "    </tr>\n",
       "    <tr>\n",
       "      <th>13145</th>\n",
       "      <td>2015</td>\n",
       "      <td>SC</td>\n",
       "      <td>dillon</td>\n",
       "      <td>1090.500000</td>\n",
       "      <td>8.591667</td>\n",
       "      <td>4160</td>\n",
       "      <td>12673.583330</td>\n",
       "      <td>32.824182</td>\n",
       "      <td>0.328242</td>\n",
       "    </tr>\n",
       "    <tr>\n",
       "      <th>2867</th>\n",
       "      <td>2015</td>\n",
       "      <td>GA</td>\n",
       "      <td>muscogee</td>\n",
       "      <td>5883.500000</td>\n",
       "      <td>7.450000</td>\n",
       "      <td>24973</td>\n",
       "      <td>78897.916670</td>\n",
       "      <td>31.652293</td>\n",
       "      <td>0.316523</td>\n",
       "    </tr>\n",
       "    <tr>\n",
       "      <th>13265</th>\n",
       "      <td>2015</td>\n",
       "      <td>SC</td>\n",
       "      <td>marlboro</td>\n",
       "      <td>968.583333</td>\n",
       "      <td>10.041667</td>\n",
       "      <td>2862</td>\n",
       "      <td>9646.666667</td>\n",
       "      <td>29.668279</td>\n",
       "      <td>0.296683</td>\n",
       "    </tr>\n",
       "    <tr>\n",
       "      <th>9647</th>\n",
       "      <td>2015</td>\n",
       "      <td>NC</td>\n",
       "      <td>richmond</td>\n",
       "      <td>1339.750000</td>\n",
       "      <td>7.916667</td>\n",
       "      <td>4970</td>\n",
       "      <td>16926.083330</td>\n",
       "      <td>29.362965</td>\n",
       "      <td>0.293630</td>\n",
       "    </tr>\n",
       "    <tr>\n",
       "      <th>13157</th>\n",
       "      <td>2015</td>\n",
       "      <td>SC</td>\n",
       "      <td>marion</td>\n",
       "      <td>1281.500000</td>\n",
       "      <td>9.966667</td>\n",
       "      <td>3701</td>\n",
       "      <td>12862.166670</td>\n",
       "      <td>28.774312</td>\n",
       "      <td>0.287743</td>\n",
       "    </tr>\n",
       "    <tr>\n",
       "      <th>779</th>\n",
       "      <td>2015</td>\n",
       "      <td>AR</td>\n",
       "      <td>jefferson</td>\n",
       "      <td>2025.166667</td>\n",
       "      <td>7.041667</td>\n",
       "      <td>7961</td>\n",
       "      <td>28769.583330</td>\n",
       "      <td>27.671586</td>\n",
       "      <td>0.276716</td>\n",
       "    </tr>\n",
       "    <tr>\n",
       "      <th>683</th>\n",
       "      <td>2015</td>\n",
       "      <td>AR</td>\n",
       "      <td>pulaski</td>\n",
       "      <td>8493.833333</td>\n",
       "      <td>4.575000</td>\n",
       "      <td>51233</td>\n",
       "      <td>186061.083300</td>\n",
       "      <td>27.535581</td>\n",
       "      <td>0.275356</td>\n",
       "    </tr>\n",
       "    <tr>\n",
       "      <th>2933</th>\n",
       "      <td>2015</td>\n",
       "      <td>GA</td>\n",
       "      <td>dougherty</td>\n",
       "      <td>2921.416667</td>\n",
       "      <td>7.725000</td>\n",
       "      <td>10397</td>\n",
       "      <td>37879.083330</td>\n",
       "      <td>27.447866</td>\n",
       "      <td>0.274479</td>\n",
       "    </tr>\n",
       "  </tbody>\n",
       "</table>\n",
       "</div>"
      ],
      "text/plain": [
       "       Year State     County  Average Number Unemployed  \\\n",
       "10937  2015    NM    hidalgo                 131.500000   \n",
       "2453   2015    GA     murray                1182.833333   \n",
       "13145  2015    SC     dillon                1090.500000   \n",
       "2867   2015    GA   muscogee                5883.500000   \n",
       "13265  2015    SC   marlboro                 968.583333   \n",
       "9647   2015    NC   richmond                1339.750000   \n",
       "13157  2015    SC     marion                1281.500000   \n",
       "779    2015    AR  jefferson                2025.166667   \n",
       "683    2015    AR    pulaski                8493.833333   \n",
       "2933   2015    GA  dougherty                2921.416667   \n",
       "\n",
       "       Average Percent Unemployed  Number of Crimes  Total Labor Force  \\\n",
       "10937                    6.191667              3138        2126.583333   \n",
       "2453                     7.358333              8250       16069.583330   \n",
       "13145                    8.591667              4160       12673.583330   \n",
       "2867                     7.450000             24973       78897.916670   \n",
       "13265                   10.041667              2862        9646.666667   \n",
       "9647                     7.916667              4970       16926.083330   \n",
       "13157                    9.966667              3701       12862.166670   \n",
       "779                      7.041667              7961       28769.583330   \n",
       "683                      4.575000             51233      186061.083300   \n",
       "2933                     7.725000             10397       37879.083330   \n",
       "\n",
       "       Crimes Per 100 Workers  Crimes Per Worker  \n",
       "10937              147.560641           1.475606  \n",
       "2453                51.339228           0.513392  \n",
       "13145               32.824182           0.328242  \n",
       "2867                31.652293           0.316523  \n",
       "13265               29.668279           0.296683  \n",
       "9647                29.362965           0.293630  \n",
       "13157               28.774312           0.287743  \n",
       "779                 27.671586           0.276716  \n",
       "683                 27.535581           0.275356  \n",
       "2933                27.447866           0.274479  "
      ]
     },
     "execution_count": 35,
     "metadata": {},
     "output_type": "execute_result"
    }
   ],
   "source": [
    "top2010 = year2010DF.nlargest(10,'Crimes Per Worker')\n",
    "top2011 = year2011DF.nlargest(10,'Crimes Per Worker')\n",
    "top2012 = year2012DF.nlargest(10,'Crimes Per Worker')\n",
    "top2013 = year2013DF.nlargest(10,'Crimes Per Worker')\n",
    "top2014 = year2014DF.nlargest(10,'Crimes Per Worker')\n",
    "top2015 = year2015DF.nlargest(10,'Crimes Per Worker')\n",
    "top2015"
   ]
  },
  {
   "cell_type": "code",
   "execution_count": 36,
   "metadata": {},
   "outputs": [
    {
     "data": {
      "text/html": [
       "<div>\n",
       "<style scoped>\n",
       "    .dataframe tbody tr th:only-of-type {\n",
       "        vertical-align: middle;\n",
       "    }\n",
       "\n",
       "    .dataframe tbody tr th {\n",
       "        vertical-align: top;\n",
       "    }\n",
       "\n",
       "    .dataframe thead th {\n",
       "        text-align: right;\n",
       "    }\n",
       "</style>\n",
       "<table border=\"1\" class=\"dataframe\">\n",
       "  <thead>\n",
       "    <tr style=\"text-align: right;\">\n",
       "      <th></th>\n",
       "      <th>Year</th>\n",
       "      <th>State</th>\n",
       "      <th>County</th>\n",
       "      <th>Average Number Unemployed</th>\n",
       "      <th>Average Percent Unemployed</th>\n",
       "      <th>Number of Crimes</th>\n",
       "      <th>Total Labor Force</th>\n",
       "      <th>Crimes Per 100 Workers</th>\n",
       "      <th>Crimes Per Worker</th>\n",
       "    </tr>\n",
       "  </thead>\n",
       "  <tbody>\n",
       "    <tr>\n",
       "      <th>1139</th>\n",
       "      <td>2015</td>\n",
       "      <td>CA</td>\n",
       "      <td>imperial</td>\n",
       "      <td>18811.166670</td>\n",
       "      <td>24.050000</td>\n",
       "      <td>13595</td>\n",
       "      <td>78162.083330</td>\n",
       "      <td>17.393344</td>\n",
       "      <td>0.173933</td>\n",
       "    </tr>\n",
       "    <tr>\n",
       "      <th>857</th>\n",
       "      <td>2015</td>\n",
       "      <td>AZ</td>\n",
       "      <td>yuma</td>\n",
       "      <td>20184.333330</td>\n",
       "      <td>21.583333</td>\n",
       "      <td>10756</td>\n",
       "      <td>93222.666670</td>\n",
       "      <td>11.537966</td>\n",
       "      <td>0.115380</td>\n",
       "    </tr>\n",
       "    <tr>\n",
       "      <th>10847</th>\n",
       "      <td>2015</td>\n",
       "      <td>NM</td>\n",
       "      <td>luna</td>\n",
       "      <td>1901.000000</td>\n",
       "      <td>17.341667</td>\n",
       "      <td>2303</td>\n",
       "      <td>10992.583330</td>\n",
       "      <td>20.950489</td>\n",
       "      <td>0.209505</td>\n",
       "    </tr>\n",
       "    <tr>\n",
       "      <th>8753</th>\n",
       "      <td>2015</td>\n",
       "      <td>MS</td>\n",
       "      <td>issaquena</td>\n",
       "      <td>71.583333</td>\n",
       "      <td>17.075000</td>\n",
       "      <td>0</td>\n",
       "      <td>418.916667</td>\n",
       "      <td>0.000000</td>\n",
       "      <td>0.000000</td>\n",
       "    </tr>\n",
       "    <tr>\n",
       "      <th>1019</th>\n",
       "      <td>2015</td>\n",
       "      <td>CA</td>\n",
       "      <td>colusa</td>\n",
       "      <td>1702.750000</td>\n",
       "      <td>15.508333</td>\n",
       "      <td>850</td>\n",
       "      <td>11069.916670</td>\n",
       "      <td>7.678468</td>\n",
       "      <td>0.076785</td>\n",
       "    </tr>\n",
       "    <tr>\n",
       "      <th>6263</th>\n",
       "      <td>2015</td>\n",
       "      <td>KY</td>\n",
       "      <td>magoffin</td>\n",
       "      <td>524.250000</td>\n",
       "      <td>14.933333</td>\n",
       "      <td>52</td>\n",
       "      <td>3508.750000</td>\n",
       "      <td>1.482009</td>\n",
       "      <td>0.014820</td>\n",
       "    </tr>\n",
       "    <tr>\n",
       "      <th>8759</th>\n",
       "      <td>2015</td>\n",
       "      <td>MS</td>\n",
       "      <td>jefferson</td>\n",
       "      <td>339.333333</td>\n",
       "      <td>14.875000</td>\n",
       "      <td>0</td>\n",
       "      <td>2277.583333</td>\n",
       "      <td>0.000000</td>\n",
       "      <td>0.000000</td>\n",
       "    </tr>\n",
       "    <tr>\n",
       "      <th>173</th>\n",
       "      <td>2015</td>\n",
       "      <td>AL</td>\n",
       "      <td>wilcox</td>\n",
       "      <td>414.083333</td>\n",
       "      <td>14.650000</td>\n",
       "      <td>392</td>\n",
       "      <td>2824.250000</td>\n",
       "      <td>13.879791</td>\n",
       "      <td>0.138798</td>\n",
       "    </tr>\n",
       "    <tr>\n",
       "      <th>14135</th>\n",
       "      <td>2015</td>\n",
       "      <td>TX</td>\n",
       "      <td>starr</td>\n",
       "      <td>3479.000000</td>\n",
       "      <td>13.466667</td>\n",
       "      <td>1959</td>\n",
       "      <td>25855.333330</td>\n",
       "      <td>7.576773</td>\n",
       "      <td>0.075768</td>\n",
       "    </tr>\n",
       "    <tr>\n",
       "      <th>869</th>\n",
       "      <td>2015</td>\n",
       "      <td>AZ</td>\n",
       "      <td>apache</td>\n",
       "      <td>2722.166667</td>\n",
       "      <td>13.250000</td>\n",
       "      <td>846</td>\n",
       "      <td>20517.833330</td>\n",
       "      <td>4.123242</td>\n",
       "      <td>0.041232</td>\n",
       "    </tr>\n",
       "  </tbody>\n",
       "</table>\n",
       "</div>"
      ],
      "text/plain": [
       "       Year State     County  Average Number Unemployed  \\\n",
       "1139   2015    CA   imperial               18811.166670   \n",
       "857    2015    AZ       yuma               20184.333330   \n",
       "10847  2015    NM       luna                1901.000000   \n",
       "8753   2015    MS  issaquena                  71.583333   \n",
       "1019   2015    CA     colusa                1702.750000   \n",
       "6263   2015    KY   magoffin                 524.250000   \n",
       "8759   2015    MS  jefferson                 339.333333   \n",
       "173    2015    AL     wilcox                 414.083333   \n",
       "14135  2015    TX      starr                3479.000000   \n",
       "869    2015    AZ     apache                2722.166667   \n",
       "\n",
       "       Average Percent Unemployed  Number of Crimes  Total Labor Force  \\\n",
       "1139                    24.050000             13595       78162.083330   \n",
       "857                     21.583333             10756       93222.666670   \n",
       "10847                   17.341667              2303       10992.583330   \n",
       "8753                    17.075000                 0         418.916667   \n",
       "1019                    15.508333               850       11069.916670   \n",
       "6263                    14.933333                52        3508.750000   \n",
       "8759                    14.875000                 0        2277.583333   \n",
       "173                     14.650000               392        2824.250000   \n",
       "14135                   13.466667              1959       25855.333330   \n",
       "869                     13.250000               846       20517.833330   \n",
       "\n",
       "       Crimes Per 100 Workers  Crimes Per Worker  \n",
       "1139                17.393344           0.173933  \n",
       "857                 11.537966           0.115380  \n",
       "10847               20.950489           0.209505  \n",
       "8753                 0.000000           0.000000  \n",
       "1019                 7.678468           0.076785  \n",
       "6263                 1.482009           0.014820  \n",
       "8759                 0.000000           0.000000  \n",
       "173                 13.879791           0.138798  \n",
       "14135                7.576773           0.075768  \n",
       "869                  4.123242           0.041232  "
      ]
     },
     "execution_count": 36,
     "metadata": {},
     "output_type": "execute_result"
    }
   ],
   "source": [
    "top2010Unem = year2010DF.nlargest(10,'Average Percent Unemployed')\n",
    "top2011Unem = year2011DF.nlargest(10,'Average Percent Unemployed')\n",
    "top2012Unem = year2012DF.nlargest(10,'Average Percent Unemployed')\n",
    "top2013Unem = year2013DF.nlargest(10,'Average Percent Unemployed')\n",
    "top2014Unem = year2014DF.nlargest(10,'Average Percent Unemployed')\n",
    "top2015Unem = year2015DF.nlargest(10,'Average Percent Unemployed')\n",
    "top2015Unem"
   ]
  },
  {
   "cell_type": "code",
   "execution_count": 37,
   "metadata": {},
   "outputs": [
    {
     "data": {
      "text/plain": [
       "<matplotlib.collections.PathCollection at 0x1a1b6954e0>"
      ]
     },
     "execution_count": 37,
     "metadata": {},
     "output_type": "execute_result"
    },
    {
     "data": {
      "image/png": "[encoded data removed]",
      "text/plain": [
       "<Figure size 432x288 with 1 Axes>"
      ]
     },
     "metadata": {
      "needs_background": "light"
     },
     "output_type": "display_data"
    }
   ],
   "source": [
    "plt.scatter(top2010Unem['Average Percent Unemployed'], top2010Unem['Crimes Per Worker'])\n",
    "plt.scatter(top2011Unem['Average Percent Unemployed'], top2011Unem['Crimes Per Worker'])\n",
    "plt.scatter(top2012Unem['Average Percent Unemployed'], top2012Unem['Crimes Per Worker'])\n",
    "plt.scatter(top2013Unem['Average Percent Unemployed'], top2013Unem['Crimes Per Worker'])\n",
    "plt.scatter(top2014Unem['Average Percent Unemployed'], top2014Unem['Crimes Per Worker'])\n",
    "plt.scatter(top2015Unem['Average Percent Unemployed'], top2015Unem['Crimes Per Worker'])"
   ]
  },
  {
   "cell_type": "code",
   "execution_count": 38,
   "metadata": {},
   "outputs": [
    {
     "data": {
      "text/plain": [
       "<matplotlib.legend.Legend at 0x1a1b47afd0>"
      ]
     },
     "execution_count": 38,
     "metadata": {},
     "output_type": "execute_result"
    },
    {
     "data": {
      "image/png": "[encoded data removed]",
      "text/plain": [
       "<Figure size 432x288 with 1 Axes>"
      ]
     },
     "metadata": {
      "needs_background": "light"
     },
     "output_type": "display_data"
    }
   ],
   "source": [
    "plt.scatter(year2010DF['Average Percent Unemployed'], year2010DF['Crimes Per Worker'])\n",
    "plt.scatter(year2011DF['Average Percent Unemployed'], year2011DF['Crimes Per Worker'])\n",
    "plt.scatter(year2012DF['Average Percent Unemployed'], year2012DF['Crimes Per Worker'])\n",
    "plt.scatter(year2013DF['Average Percent Unemployed'], year2013DF['Crimes Per Worker'])\n",
    "plt.scatter(year2014DF['Average Percent Unemployed'], year2014DF['Crimes Per Worker'])\n",
    "plt.scatter(year2015DF['Average Percent Unemployed'], year2015DF['Crimes Per Worker'])\n",
    "plt.ylim(0,.8)\n",
    "plt.legend([2010,2011,2012,2013,2014,2015])"
   ]
  },
  {
   "cell_type": "code",
   "execution_count": 39,
   "metadata": {},
   "outputs": [
    {
     "data": {
      "text/plain": [
       "{'whiskers': [<matplotlib.lines.Line2D at 0x1a1b989f98>,\n",
       "  <matplotlib.lines.Line2D at 0x1a1b998470>,\n",
       "  <matplotlib.lines.Line2D at 0x1a1b66cda0>,\n",
       "  <matplotlib.lines.Line2D at 0x1a1b67b208>,\n",
       "  <matplotlib.lines.Line2D at 0x1a1b680b38>,\n",
       "  <matplotlib.lines.Line2D at 0x1a1b680f60>,\n",
       "  <matplotlib.lines.Line2D at 0x1a1c01f8d0>,\n",
       "  <matplotlib.lines.Line2D at 0x1a1c01fcf8>,\n",
       "  <matplotlib.lines.Line2D at 0x1a1c00a668>,\n",
       "  <matplotlib.lines.Line2D at 0x1a1c00aa90>,\n",
       "  <matplotlib.lines.Line2D at 0x1a1b701400>,\n",
       "  <matplotlib.lines.Line2D at 0x1a1b701828>],\n",
       " 'caps': [<matplotlib.lines.Line2D at 0x1a1b998898>,\n",
       "  <matplotlib.lines.Line2D at 0x1a1b998cc0>,\n",
       "  <matplotlib.lines.Line2D at 0x1a1b67b630>,\n",
       "  <matplotlib.lines.Line2D at 0x1a1b67ba58>,\n",
       "  <matplotlib.lines.Line2D at 0x1a1b6463c8>,\n",
       "  <matplotlib.lines.Line2D at 0x1a1b6467f0>,\n",
       "  <matplotlib.lines.Line2D at 0x1a1c019160>,\n",
       "  <matplotlib.lines.Line2D at 0x1a1c019588>,\n",
       "  <matplotlib.lines.Line2D at 0x1a1c00aeb8>,\n",
       "  <matplotlib.lines.Line2D at 0x1a1bfe3320>,\n",
       "  <matplotlib.lines.Line2D at 0x1a1b701c50>,\n",
       "  <matplotlib.lines.Line2D at 0x1a1b6eb0b8>],\n",
       " 'boxes': [<matplotlib.lines.Line2D at 0x1a1b989e48>,\n",
       "  <matplotlib.lines.Line2D at 0x1a1b66c940>,\n",
       "  <matplotlib.lines.Line2D at 0x1a1b6806d8>,\n",
       "  <matplotlib.lines.Line2D at 0x1a1c01f470>,\n",
       "  <matplotlib.lines.Line2D at 0x1a1c00a208>,\n",
       "  <matplotlib.lines.Line2D at 0x1a1bfe3f60>],\n",
       " 'medians': [<matplotlib.lines.Line2D at 0x1a1b66c128>,\n",
       "  <matplotlib.lines.Line2D at 0x1a1b67be80>,\n",
       "  <matplotlib.lines.Line2D at 0x1a1b646c18>,\n",
       "  <matplotlib.lines.Line2D at 0x1a1c0199b0>,\n",
       "  <matplotlib.lines.Line2D at 0x1a1bfe3748>,\n",
       "  <matplotlib.lines.Line2D at 0x1a1b6eb4e0>],\n",
       " 'fliers': [<matplotlib.lines.Line2D at 0x1a1b66c550>,\n",
       "  <matplotlib.lines.Line2D at 0x1a1b6802e8>,\n",
       "  <matplotlib.lines.Line2D at 0x1a1c01f080>,\n",
       "  <matplotlib.lines.Line2D at 0x1a1c019dd8>,\n",
       "  <matplotlib.lines.Line2D at 0x1a1bfe3b70>,\n",
       "  <matplotlib.lines.Line2D at 0x1a1b6eb908>],\n",
       " 'means': []}"
      ]
     },
     "execution_count": 39,
     "metadata": {},
     "output_type": "execute_result"
    },
    {
     "data": {
      "image/png": "[encoded data removed]",
      "text/plain": [
       "<Figure size 432x288 with 1 Axes>"
      ]
     },
     "metadata": {
      "needs_background": "light"
     },
     "output_type": "display_data"
    }
   ],
   "source": [
    "plt.boxplot([year2010DF['Average Percent Unemployed'], year2011DF['Average Percent Unemployed'],\n",
    "            year2012DF['Average Percent Unemployed'], year2013DF['Average Percent Unemployed'],\n",
    "            year2014DF['Average Percent Unemployed'], year2015DF['Average Percent Unemployed']]\n",
    "            , vert = True, whis = [5,95], labels=[2010, 2011, 2012, 2013, 2014, 2015])"
   ]
  },
  {
   "cell_type": "code",
   "execution_count": 40,
   "metadata": {},
   "outputs": [
    {
     "data": {
      "text/plain": [
       "{'whiskers': [<matplotlib.lines.Line2D at 0x1a1b415240>,\n",
       "  <matplotlib.lines.Line2D at 0x1a1b4156d8>,\n",
       "  <matplotlib.lines.Line2D at 0x1a1b41abe0>,\n",
       "  <matplotlib.lines.Line2D at 0x1a1b1b4048>,\n",
       "  <matplotlib.lines.Line2D at 0x1a1b1ed550>,\n",
       "  <matplotlib.lines.Line2D at 0x1a1b1ed978>,\n",
       "  <matplotlib.lines.Line2D at 0x1a1b1d2e80>,\n",
       "  <matplotlib.lines.Line2D at 0x1a1b1db2e8>,\n",
       "  <matplotlib.lines.Line2D at 0x1a1b1b97f0>,\n",
       "  <matplotlib.lines.Line2D at 0x1a1b1b9c18>,\n",
       "  <matplotlib.lines.Line2D at 0x1a1cac9160>,\n",
       "  <matplotlib.lines.Line2D at 0x1a1cac9588>],\n",
       " 'caps': [<matplotlib.lines.Line2D at 0x1a1b415b00>,\n",
       "  <matplotlib.lines.Line2D at 0x1a1b415f28>,\n",
       "  <matplotlib.lines.Line2D at 0x1a1b1b4470>,\n",
       "  <matplotlib.lines.Line2D at 0x1a1b1b4898>,\n",
       "  <matplotlib.lines.Line2D at 0x1a1b1edda0>,\n",
       "  <matplotlib.lines.Line2D at 0x1a1b1d2208>,\n",
       "  <matplotlib.lines.Line2D at 0x1a1b1db710>,\n",
       "  <matplotlib.lines.Line2D at 0x1a1b1dbb38>,\n",
       "  <matplotlib.lines.Line2D at 0x1a1cac1080>,\n",
       "  <matplotlib.lines.Line2D at 0x1a1cac14a8>,\n",
       "  <matplotlib.lines.Line2D at 0x1a1cac99b0>,\n",
       "  <matplotlib.lines.Line2D at 0x1a1cac9dd8>],\n",
       " 'boxes': [<matplotlib.lines.Line2D at 0x1a1b4150f0>,\n",
       "  <matplotlib.lines.Line2D at 0x1a1b41a7b8>,\n",
       "  <matplotlib.lines.Line2D at 0x1a1b1ed128>,\n",
       "  <matplotlib.lines.Line2D at 0x1a1b1d2a58>,\n",
       "  <matplotlib.lines.Line2D at 0x1a1b1b93c8>,\n",
       "  <matplotlib.lines.Line2D at 0x1a1cac1cf8>],\n",
       " 'medians': [<matplotlib.lines.Line2D at 0x1a1b41a390>,\n",
       "  <matplotlib.lines.Line2D at 0x1a1b1b4cc0>,\n",
       "  <matplotlib.lines.Line2D at 0x1a1b1d2630>,\n",
       "  <matplotlib.lines.Line2D at 0x1a1b1dbf60>,\n",
       "  <matplotlib.lines.Line2D at 0x1a1cac18d0>,\n",
       "  <matplotlib.lines.Line2D at 0x1a1cad3240>],\n",
       " 'fliers': [],\n",
       " 'means': []}"
      ]
     },
     "execution_count": 40,
     "metadata": {},
     "output_type": "execute_result"
    },
    {
     "data": {
      "image/png": "[encoded data removed]",
      "text/plain": [
       "<Figure size 432x288 with 1 Axes>"
      ]
     },
     "metadata": {
      "needs_background": "light"
     },
     "output_type": "display_data"
    }
   ],
   "source": [
    "plt.boxplot([year2010DF['Average Percent Unemployed'], year2011DF['Average Percent Unemployed'],\n",
    "            year2012DF['Average Percent Unemployed'], year2013DF['Average Percent Unemployed'],\n",
    "            year2014DF['Average Percent Unemployed'], year2015DF['Average Percent Unemployed']]\n",
    "            , vert = True, whis = [5,95], labels=[2010, 2011, 2012, 2013, 2014, 2015], showfliers = False)"
   ]
  },
  {
   "cell_type": "code",
   "execution_count": 41,
   "metadata": {},
   "outputs": [
    {
     "data": {
      "text/plain": [
       "{'whiskers': [<matplotlib.lines.Line2D at 0x1a1c6613c8>,\n",
       "  <matplotlib.lines.Line2D at 0x1a1c661860>,\n",
       "  <matplotlib.lines.Line2D at 0x1a1c665d68>,\n",
       "  <matplotlib.lines.Line2D at 0x1a1c3991d0>,\n",
       "  <matplotlib.lines.Line2D at 0x1a1c3a16d8>,\n",
       "  <matplotlib.lines.Line2D at 0x1a1c3a1b00>,\n",
       "  <matplotlib.lines.Line2D at 0x1a1c3b2048>,\n",
       "  <matplotlib.lines.Line2D at 0x1a1c3b2470>,\n",
       "  <matplotlib.lines.Line2D at 0x1a1c3bb978>,\n",
       "  <matplotlib.lines.Line2D at 0x1a1c3bbda0>,\n",
       "  <matplotlib.lines.Line2D at 0x1a1c3cc2e8>,\n",
       "  <matplotlib.lines.Line2D at 0x1a1c3cc710>],\n",
       " 'caps': [<matplotlib.lines.Line2D at 0x1a1c661c88>,\n",
       "  <matplotlib.lines.Line2D at 0x1a1c6650f0>,\n",
       "  <matplotlib.lines.Line2D at 0x1a1c3995f8>,\n",
       "  <matplotlib.lines.Line2D at 0x1a1c399a20>,\n",
       "  <matplotlib.lines.Line2D at 0x1a1c3a1f28>,\n",
       "  <matplotlib.lines.Line2D at 0x1a1c3aa390>,\n",
       "  <matplotlib.lines.Line2D at 0x1a1c3b2898>,\n",
       "  <matplotlib.lines.Line2D at 0x1a1c3b2cc0>,\n",
       "  <matplotlib.lines.Line2D at 0x1a1c3c4208>,\n",
       "  <matplotlib.lines.Line2D at 0x1a1c3c4630>,\n",
       "  <matplotlib.lines.Line2D at 0x1a1c3ccb38>,\n",
       "  <matplotlib.lines.Line2D at 0x1a1c3ccf60>],\n",
       " 'boxes': [<matplotlib.lines.Line2D at 0x1a1c661278>,\n",
       "  <matplotlib.lines.Line2D at 0x1a1c665940>,\n",
       "  <matplotlib.lines.Line2D at 0x1a1c3a12b0>,\n",
       "  <matplotlib.lines.Line2D at 0x1a1c3aabe0>,\n",
       "  <matplotlib.lines.Line2D at 0x1a1c3bb550>,\n",
       "  <matplotlib.lines.Line2D at 0x1a1c3c4e80>],\n",
       " 'medians': [<matplotlib.lines.Line2D at 0x1a1c665518>,\n",
       "  <matplotlib.lines.Line2D at 0x1a1c399e48>,\n",
       "  <matplotlib.lines.Line2D at 0x1a1c3aa7b8>,\n",
       "  <matplotlib.lines.Line2D at 0x1a1c3bb128>,\n",
       "  <matplotlib.lines.Line2D at 0x1a1c3c4a58>,\n",
       "  <matplotlib.lines.Line2D at 0x1a1bbfd3c8>],\n",
       " 'fliers': [],\n",
       " 'means': []}"
      ]
     },
     "execution_count": 41,
     "metadata": {},
     "output_type": "execute_result"
    },
    {
     "data": {
      "image/png": "[encoded data removed]",
      "text/plain": [
       "<Figure size 432x288 with 1 Axes>"
      ]
     },
     "metadata": {
      "needs_background": "light"
     },
     "output_type": "display_data"
    }
   ],
   "source": [
    "plt.boxplot([year2010DF['Crimes Per Worker'], year2011DF['Crimes Per Worker'],\n",
    "            year2012DF['Crimes Per Worker'], year2013DF['Crimes Per Worker'],\n",
    "            year2014DF['Crimes Per Worker'], year2015DF['Crimes Per Worker']]\n",
    "            , vert = True, whis = [5,95], labels=[2010, 2011, 2012, 2013, 2014, 2015], \n",
    "           showfliers = False)"
   ]
  },
  {
   "cell_type": "code",
   "execution_count": 42,
   "metadata": {},
   "outputs": [
    {
     "data": {
      "text/plain": [
       "{'whiskers': [<matplotlib.lines.Line2D at 0x1a1c6b3390>,\n",
       "  <matplotlib.lines.Line2D at 0x1a1c6b3828>,\n",
       "  <matplotlib.lines.Line2D at 0x1a1c6c1198>,\n",
       "  <matplotlib.lines.Line2D at 0x1a1c6c15c0>,\n",
       "  <matplotlib.lines.Line2D at 0x1a1d9f3ef0>,\n",
       "  <matplotlib.lines.Line2D at 0x1a1d9fa358>,\n",
       "  <matplotlib.lines.Line2D at 0x1a1da03c88>,\n",
       "  <matplotlib.lines.Line2D at 0x1a1da0b0f0>,\n",
       "  <matplotlib.lines.Line2D at 0x1a1da14a20>,\n",
       "  <matplotlib.lines.Line2D at 0x1a1da14e48>,\n",
       "  <matplotlib.lines.Line2D at 0x1a1da257b8>,\n",
       "  <matplotlib.lines.Line2D at 0x1a1da25be0>],\n",
       " 'caps': [<matplotlib.lines.Line2D at 0x1a1c6b3c50>,\n",
       "  <matplotlib.lines.Line2D at 0x1a1c6ba0b8>,\n",
       "  <matplotlib.lines.Line2D at 0x1a1c6c19e8>,\n",
       "  <matplotlib.lines.Line2D at 0x1a1c6c1e10>,\n",
       "  <matplotlib.lines.Line2D at 0x1a1d9fa780>,\n",
       "  <matplotlib.lines.Line2D at 0x1a1d9faba8>,\n",
       "  <matplotlib.lines.Line2D at 0x1a1da0b518>,\n",
       "  <matplotlib.lines.Line2D at 0x1a1da0b940>,\n",
       "  <matplotlib.lines.Line2D at 0x1a1da1c2b0>,\n",
       "  <matplotlib.lines.Line2D at 0x1a1da1c6d8>,\n",
       "  <matplotlib.lines.Line2D at 0x1a1da2d048>,\n",
       "  <matplotlib.lines.Line2D at 0x1a1da2d470>],\n",
       " 'boxes': [<matplotlib.lines.Line2D at 0x1a1c6b3240>,\n",
       "  <matplotlib.lines.Line2D at 0x1a1c6bacf8>,\n",
       "  <matplotlib.lines.Line2D at 0x1a1d9f3a90>,\n",
       "  <matplotlib.lines.Line2D at 0x1a1da03828>,\n",
       "  <matplotlib.lines.Line2D at 0x1a1da145c0>,\n",
       "  <matplotlib.lines.Line2D at 0x1a1da25358>],\n",
       " 'medians': [<matplotlib.lines.Line2D at 0x1a1c6ba4e0>,\n",
       "  <matplotlib.lines.Line2D at 0x1a1d9f3278>,\n",
       "  <matplotlib.lines.Line2D at 0x1a1d9fafd0>,\n",
       "  <matplotlib.lines.Line2D at 0x1a1da0bd68>,\n",
       "  <matplotlib.lines.Line2D at 0x1a1da1cb00>,\n",
       "  <matplotlib.lines.Line2D at 0x1a1da2d898>],\n",
       " 'fliers': [<matplotlib.lines.Line2D at 0x1a1c6ba908>,\n",
       "  <matplotlib.lines.Line2D at 0x1a1d9f36a0>,\n",
       "  <matplotlib.lines.Line2D at 0x1a1da03438>,\n",
       "  <matplotlib.lines.Line2D at 0x1a1da141d0>,\n",
       "  <matplotlib.lines.Line2D at 0x1a1da1cf28>,\n",
       "  <matplotlib.lines.Line2D at 0x1a1da2dcc0>],\n",
       " 'means': []}"
      ]
     },
     "execution_count": 42,
     "metadata": {},
     "output_type": "execute_result"
    },
    {
     "data": {
      "image/png": "[encoded data removed]",
      "text/plain": [
       "<Figure size 432x288 with 1 Axes>"
      ]
     },
     "metadata": {
      "needs_background": "light"
     },
     "output_type": "display_data"
    }
   ],
   "source": [
    "plt.boxplot([year2010DF['Crimes Per Worker'], year2011DF['Crimes Per Worker'],\n",
    "            year2012DF['Crimes Per Worker'], year2013DF['Crimes Per Worker'],\n",
    "            year2014DF['Crimes Per Worker'], year2015DF['Crimes Per Worker']]\n",
    "            , vert = True, whis = [5,95], labels=[2010, 2011, 2012, 2013, 2014, 2015])"
   ]
  },
  {
   "cell_type": "code",
   "execution_count": 43,
   "metadata": {},
   "outputs": [
    {
     "name": "stderr",
     "output_type": "stream",
     "text": [
      "/anaconda3/envs/PythonData/lib/python3.6/site-packages/scipy/stats/stats.py:1713: FutureWarning: Using a non-tuple sequence for multidimensional indexing is deprecated; use `arr[tuple(seq)]` instead of `arr[seq]`. In the future this will be interpreted as an array index, `arr[np.array(seq)]`, which will result either in an error or a different result.\n",
      "  return np.add.reduce(sorted[indexer] * weights, axis=axis) / sumval\n"
     ]
    },
    {
     "data": {
      "text/plain": [
       "<matplotlib.axes._subplots.AxesSubplot at 0x1a1da66898>"
      ]
     },
     "execution_count": 43,
     "metadata": {},
     "output_type": "execute_result"
    },
    {
     "data": {
      "image/png": "[encoded data removed]",
      "text/plain": [
       "<Figure size 432x288 with 1 Axes>"
      ]
     },
     "metadata": {
      "needs_background": "light"
     },
     "output_type": "display_data"
    }
   ],
   "source": [
    "sns.distplot(year2010DF['Crimes Per Worker'])"
   ]
  },
  {
   "cell_type": "code",
   "execution_count": 44,
   "metadata": {},
   "outputs": [
    {
     "name": "stderr",
     "output_type": "stream",
     "text": [
      "/anaconda3/envs/PythonData/lib/python3.6/site-packages/scipy/stats/stats.py:1713: FutureWarning: Using a non-tuple sequence for multidimensional indexing is deprecated; use `arr[tuple(seq)]` instead of `arr[seq]`. In the future this will be interpreted as an array index, `arr[np.array(seq)]`, which will result either in an error or a different result.\n",
      "  return np.add.reduce(sorted[indexer] * weights, axis=axis) / sumval\n"
     ]
    },
    {
     "data": {
      "text/plain": [
       "<matplotlib.axes._subplots.AxesSubplot at 0x1a1dbd3048>"
      ]
     },
     "execution_count": 44,
     "metadata": {},
     "output_type": "execute_result"
    },
    {
     "data": {
      "image/png": "[encoded data removed]",
      "text/plain": [
       "<Figure size 432x288 with 1 Axes>"
      ]
     },
     "metadata": {
      "needs_background": "light"
     },
     "output_type": "display_data"
    }
   ],
   "source": [
    "sns.distplot(year2010DF['Average Percent Unemployed'])"
   ]
  },
  {
   "cell_type": "code",
   "execution_count": 45,
   "metadata": {},
   "outputs": [
    {
     "name": "stderr",
     "output_type": "stream",
     "text": [
      "/anaconda3/envs/PythonData/lib/python3.6/site-packages/scipy/stats/stats.py:1713: FutureWarning: Using a non-tuple sequence for multidimensional indexing is deprecated; use `arr[tuple(seq)]` instead of `arr[seq]`. In the future this will be interpreted as an array index, `arr[np.array(seq)]`, which will result either in an error or a different result.\n",
      "  return np.add.reduce(sorted[indexer] * weights, axis=axis) / sumval\n"
     ]
    },
    {
     "data": {
      "text/plain": [
       "<matplotlib.axes._subplots.AxesSubplot at 0x1a1e29f278>"
      ]
     },
     "execution_count": 45,
     "metadata": {},
     "output_type": "execute_result"
    },
    {
     "data": {
      "image/png": "[encoded data removed]",
      "text/plain": [
       "<Figure size 432x288 with 1 Axes>"
      ]
     },
     "metadata": {
      "needs_background": "light"
     },
     "output_type": "display_data"
    }
   ],
   "source": [
    "sns.distplot(year2011DF['Crimes Per Worker'])"
   ]
  },
  {
   "cell_type": "code",
   "execution_count": 46,
   "metadata": {},
   "outputs": [
    {
     "name": "stderr",
     "output_type": "stream",
     "text": [
      "/anaconda3/envs/PythonData/lib/python3.6/site-packages/scipy/stats/stats.py:1713: FutureWarning: Using a non-tuple sequence for multidimensional indexing is deprecated; use `arr[tuple(seq)]` instead of `arr[seq]`. In the future this will be interpreted as an array index, `arr[np.array(seq)]`, which will result either in an error or a different result.\n",
      "  return np.add.reduce(sorted[indexer] * weights, axis=axis) / sumval\n"
     ]
    },
    {
     "data": {
      "text/plain": [
       "<matplotlib.axes._subplots.AxesSubplot at 0x1a1e344080>"
      ]
     },
     "execution_count": 46,
     "metadata": {},
     "output_type": "execute_result"
    },
    {
     "data": {
      "image/png": "[encoded data removed]",
      "text/plain": [
       "<Figure size 432x288 with 1 Axes>"
      ]
     },
     "metadata": {
      "needs_background": "light"
     },
     "output_type": "display_data"
    }
   ],
   "source": [
    "sns.distplot(year2011DF['Average Percent Unemployed'])"
   ]
  },
  {
   "cell_type": "code",
   "execution_count": 47,
   "metadata": {},
   "outputs": [
    {
     "name": "stderr",
     "output_type": "stream",
     "text": [
      "/anaconda3/envs/PythonData/lib/python3.6/site-packages/scipy/stats/stats.py:1713: FutureWarning: Using a non-tuple sequence for multidimensional indexing is deprecated; use `arr[tuple(seq)]` instead of `arr[seq]`. In the future this will be interpreted as an array index, `arr[np.array(seq)]`, which will result either in an error or a different result.\n",
      "  return np.add.reduce(sorted[indexer] * weights, axis=axis) / sumval\n"
     ]
    },
    {
     "data": {
      "text/plain": [
       "<matplotlib.axes._subplots.AxesSubplot at 0x1a1e4ab3c8>"
      ]
     },
     "execution_count": 47,
     "metadata": {},
     "output_type": "execute_result"
    },
    {
     "data": {
      "image/png": "[encoded data removed]",
      "text/plain": [
       "<Figure size 432x288 with 1 Axes>"
      ]
     },
     "metadata": {
      "needs_background": "light"
     },
     "output_type": "display_data"
    }
   ],
   "source": [
    "sns.distplot(year2012DF['Crimes Per Worker'])"
   ]
  },
  {
   "cell_type": "code",
   "execution_count": 48,
   "metadata": {},
   "outputs": [
    {
     "name": "stderr",
     "output_type": "stream",
     "text": [
      "/anaconda3/envs/PythonData/lib/python3.6/site-packages/scipy/stats/stats.py:1713: FutureWarning: Using a non-tuple sequence for multidimensional indexing is deprecated; use `arr[tuple(seq)]` instead of `arr[seq]`. In the future this will be interpreted as an array index, `arr[np.array(seq)]`, which will result either in an error or a different result.\n",
      "  return np.add.reduce(sorted[indexer] * weights, axis=axis) / sumval\n"
     ]
    },
    {
     "data": {
      "text/plain": [
       "<matplotlib.axes._subplots.AxesSubplot at 0x1a1e5bcb70>"
      ]
     },
     "execution_count": 48,
     "metadata": {},
     "output_type": "execute_result"
    },
    {
     "data": {
      "image/png": "[encoded data removed]",
      "text/plain": [
       "<Figure size 432x288 with 1 Axes>"
      ]
     },
     "metadata": {
      "needs_background": "light"
     },
     "output_type": "display_data"
    }
   ],
   "source": [
    "sns.distplot(year2012DF['Average Percent Unemployed'])"
   ]
  },
  {
   "cell_type": "code",
   "execution_count": 49,
   "metadata": {},
   "outputs": [
    {
     "name": "stderr",
     "output_type": "stream",
     "text": [
      "/anaconda3/envs/PythonData/lib/python3.6/site-packages/scipy/stats/stats.py:1713: FutureWarning: Using a non-tuple sequence for multidimensional indexing is deprecated; use `arr[tuple(seq)]` instead of `arr[seq]`. In the future this will be interpreted as an array index, `arr[np.array(seq)]`, which will result either in an error or a different result.\n",
      "  return np.add.reduce(sorted[indexer] * weights, axis=axis) / sumval\n"
     ]
    },
    {
     "data": {
      "text/plain": [
       "<matplotlib.axes._subplots.AxesSubplot at 0x1a1e6f07f0>"
      ]
     },
     "execution_count": 49,
     "metadata": {},
     "output_type": "execute_result"
    },
    {
     "data": {
      "image/png": "[encoded data removed]",
      "text/plain": [
       "<Figure size 432x288 with 1 Axes>"
      ]
     },
     "metadata": {
      "needs_background": "light"
     },
     "output_type": "display_data"
    }
   ],
   "source": [
    "sns.distplot(year2013DF['Crimes Per Worker'])"
   ]
  },
  {
   "cell_type": "code",
   "execution_count": 50,
   "metadata": {},
   "outputs": [
    {
     "name": "stderr",
     "output_type": "stream",
     "text": [
      "/anaconda3/envs/PythonData/lib/python3.6/site-packages/scipy/stats/stats.py:1713: FutureWarning: Using a non-tuple sequence for multidimensional indexing is deprecated; use `arr[tuple(seq)]` instead of `arr[seq]`. In the future this will be interpreted as an array index, `arr[np.array(seq)]`, which will result either in an error or a different result.\n",
      "  return np.add.reduce(sorted[indexer] * weights, axis=axis) / sumval\n"
     ]
    },
    {
     "data": {
      "text/plain": [
       "<matplotlib.axes._subplots.AxesSubplot at 0x1a1e812da0>"
      ]
     },
     "execution_count": 50,
     "metadata": {},
     "output_type": "execute_result"
    },
    {
     "data": {
      "image/png": "[encoded data removed]",
      "text/plain": [
       "<Figure size 432x288 with 1 Axes>"
      ]
     },
     "metadata": {
      "needs_background": "light"
     },
     "output_type": "display_data"
    }
   ],
   "source": [
    "sns.distplot(year2013DF['Average Percent Unemployed'])"
   ]
  },
  {
   "cell_type": "code",
   "execution_count": 51,
   "metadata": {},
   "outputs": [
    {
     "name": "stderr",
     "output_type": "stream",
     "text": [
      "/anaconda3/envs/PythonData/lib/python3.6/site-packages/scipy/stats/stats.py:1713: FutureWarning: Using a non-tuple sequence for multidimensional indexing is deprecated; use `arr[tuple(seq)]` instead of `arr[seq]`. In the future this will be interpreted as an array index, `arr[np.array(seq)]`, which will result either in an error or a different result.\n",
      "  return np.add.reduce(sorted[indexer] * weights, axis=axis) / sumval\n"
     ]
    },
    {
     "data": {
      "text/plain": [
       "<matplotlib.axes._subplots.AxesSubplot at 0x1a1e60e9b0>"
      ]
     },
     "execution_count": 51,
     "metadata": {},
     "output_type": "execute_result"
    },
    {
     "data": {
      "image/png": "[encoded data removed]",
      "text/plain": [
       "<Figure size 432x288 with 1 Axes>"
      ]
     },
     "metadata": {
      "needs_background": "light"
     },
     "output_type": "display_data"
    }
   ],
   "source": [
    "sns.distplot(year2014DF['Crimes Per Worker'])"
   ]
  },
  {
   "cell_type": "code",
   "execution_count": 52,
   "metadata": {},
   "outputs": [
    {
     "name": "stderr",
     "output_type": "stream",
     "text": [
      "/anaconda3/envs/PythonData/lib/python3.6/site-packages/scipy/stats/stats.py:1713: FutureWarning: Using a non-tuple sequence for multidimensional indexing is deprecated; use `arr[tuple(seq)]` instead of `arr[seq]`. In the future this will be interpreted as an array index, `arr[np.array(seq)]`, which will result either in an error or a different result.\n",
      "  return np.add.reduce(sorted[indexer] * weights, axis=axis) / sumval\n"
     ]
    },
    {
     "data": {
      "text/plain": [
       "<matplotlib.axes._subplots.AxesSubplot at 0x1a1ea955f8>"
      ]
     },
     "execution_count": 52,
     "metadata": {},
     "output_type": "execute_result"
    },
    {
     "data": {
      "image/png": "[encoded data removed]",
      "text/plain": [
       "<Figure size 432x288 with 1 Axes>"
      ]
     },
     "metadata": {
      "needs_background": "light"
     },
     "output_type": "display_data"
    }
   ],
   "source": [
    "sns.distplot(year2014DF['Average Percent Unemployed'])"
   ]
  },
  {
   "cell_type": "code",
   "execution_count": 53,
   "metadata": {},
   "outputs": [
    {
     "name": "stderr",
     "output_type": "stream",
     "text": [
      "/anaconda3/envs/PythonData/lib/python3.6/site-packages/scipy/stats/stats.py:1713: FutureWarning: Using a non-tuple sequence for multidimensional indexing is deprecated; use `arr[tuple(seq)]` instead of `arr[seq]`. In the future this will be interpreted as an array index, `arr[np.array(seq)]`, which will result either in an error or a different result.\n",
      "  return np.add.reduce(sorted[indexer] * weights, axis=axis) / sumval\n"
     ]
    },
    {
     "data": {
      "text/plain": [
       "<matplotlib.axes._subplots.AxesSubplot at 0x1a1eba29e8>"
      ]
     },
     "execution_count": 53,
     "metadata": {},
     "output_type": "execute_result"
    },
    {
     "data": {
      "image/png": "[encoded data removed]",
      "text/plain": [
       "<Figure size 432x288 with 1 Axes>"
      ]
     },
     "metadata": {
      "needs_background": "light"
     },
     "output_type": "display_data"
    }
   ],
   "source": [
    "sns.distplot(year2015DF['Crimes Per Worker'])"
   ]
  },
  {
   "cell_type": "code",
   "execution_count": 54,
   "metadata": {},
   "outputs": [
    {
     "name": "stderr",
     "output_type": "stream",
     "text": [
      "/anaconda3/envs/PythonData/lib/python3.6/site-packages/scipy/stats/stats.py:1713: FutureWarning: Using a non-tuple sequence for multidimensional indexing is deprecated; use `arr[tuple(seq)]` instead of `arr[seq]`. In the future this will be interpreted as an array index, `arr[np.array(seq)]`, which will result either in an error or a different result.\n",
      "  return np.add.reduce(sorted[indexer] * weights, axis=axis) / sumval\n"
     ]
    },
    {
     "data": {
      "text/plain": [
       "<matplotlib.axes._subplots.AxesSubplot at 0x1a1eb45860>"
      ]
     },
     "execution_count": 54,
     "metadata": {},
     "output_type": "execute_result"
    },
    {
     "data": {
      "image/png": "[encoded data removed]",
      "text/plain": [
       "<Figure size 432x288 with 1 Axes>"
      ]
     },
     "metadata": {
      "needs_background": "light"
     },
     "output_type": "display_data"
    }
   ],
   "source": [
    "sns.distplot(year2015DF['Average Percent Unemployed'])"
   ]
  },
  {
   "cell_type": "code",
   "execution_count": null,
   "metadata": {},
   "outputs": [],
   "source": []
  }
 ],
 "metadata": {
  "kernelspec": {
   "display_name": "Python 3",
   "language": "python",
   "name": "python3"
  },
  "language_info": {
   "codemirror_mode": {
    "name": "ipython",
    "version": 3
   },
   "file_extension": ".py",
   "mimetype": "text/x-python",
   "name": "python",
   "nbconvert_exporter": "python",
   "pygments_lexer": "ipython3",
   "version": "3.6.6"
  }
 },
 "nbformat": 4,
 "nbformat_minor": 2
}
