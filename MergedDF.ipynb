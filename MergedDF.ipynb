{
 "cells": [
  {
   "cell_type": "code",
   "execution_count": 67,
   "metadata": {},
   "outputs": [],
   "source": [
    "import pandas as pd\n",
    "import matplotlib.pyplot as plt\n",
    "from scipy import stats"
   ]
  },
  {
   "cell_type": "code",
   "execution_count": 68,
   "metadata": {},
   "outputs": [],
   "source": [
    "# import csvs\n",
    "readCrime = pd.read_csv('crimedata2.csv')\n",
    "readCounty = pd.read_csv('NumberUnemployed.csv')\n",
    "secondCrime = pd.read_csv('CrimeData.csv')\n",
    "unemployment = pd.read_csv('PercentUnemployed.csv')\n",
    "laborForce = pd.read_csv('TotalEmployment.csv')"
   ]
  },
  {
   "cell_type": "code",
   "execution_count": 69,
   "metadata": {},
   "outputs": [
    {
     "data": {
      "text/html": [
       "<div>\n",
       "<style scoped>\n",
       "    .dataframe tbody tr th:only-of-type {\n",
       "        vertical-align: middle;\n",
       "    }\n",
       "\n",
       "    .dataframe tbody tr th {\n",
       "        vertical-align: top;\n",
       "    }\n",
       "\n",
       "    .dataframe thead th {\n",
       "        text-align: right;\n",
       "    }\n",
       "</style>\n",
       "<table border=\"1\" class=\"dataframe\">\n",
       "  <thead>\n",
       "    <tr style=\"text-align: right;\">\n",
       "      <th></th>\n",
       "      <th>Year</th>\n",
       "      <th>State</th>\n",
       "      <th>County</th>\n",
       "      <th>Average Number Unemployed</th>\n",
       "      <th>Average Percent Unemployed</th>\n",
       "      <th>Number of Crimes</th>\n",
       "      <th>Total Labor Force</th>\n",
       "    </tr>\n",
       "  </thead>\n",
       "  <tbody>\n",
       "    <tr>\n",
       "      <th>0</th>\n",
       "      <td>2010</td>\n",
       "      <td>AL</td>\n",
       "      <td>lee</td>\n",
       "      <td>6005.750000</td>\n",
       "      <td>9.025000</td>\n",
       "      <td>7107</td>\n",
       "      <td>66764.16667</td>\n",
       "    </tr>\n",
       "    <tr>\n",
       "      <th>1</th>\n",
       "      <td>2011</td>\n",
       "      <td>AL</td>\n",
       "      <td>lee</td>\n",
       "      <td>5503.583333</td>\n",
       "      <td>8.050000</td>\n",
       "      <td>9148</td>\n",
       "      <td>68315.50000</td>\n",
       "    </tr>\n",
       "    <tr>\n",
       "      <th>2</th>\n",
       "      <td>2012</td>\n",
       "      <td>AL</td>\n",
       "      <td>lee</td>\n",
       "      <td>4671.250000</td>\n",
       "      <td>6.766667</td>\n",
       "      <td>8036</td>\n",
       "      <td>68918.25000</td>\n",
       "    </tr>\n",
       "    <tr>\n",
       "      <th>3</th>\n",
       "      <td>2013</td>\n",
       "      <td>AL</td>\n",
       "      <td>lee</td>\n",
       "      <td>4144.250000</td>\n",
       "      <td>5.858333</td>\n",
       "      <td>7441</td>\n",
       "      <td>70523.00000</td>\n",
       "    </tr>\n",
       "    <tr>\n",
       "      <th>4</th>\n",
       "      <td>2014</td>\n",
       "      <td>AL</td>\n",
       "      <td>lee</td>\n",
       "      <td>3987.000000</td>\n",
       "      <td>5.566667</td>\n",
       "      <td>7671</td>\n",
       "      <td>71372.16667</td>\n",
       "    </tr>\n",
       "  </tbody>\n",
       "</table>\n",
       "</div>"
      ],
      "text/plain": [
       "   Year State County  Average Number Unemployed  Average Percent Unemployed  \\\n",
       "0  2010    AL    lee                6005.750000                    9.025000   \n",
       "1  2011    AL    lee                5503.583333                    8.050000   \n",
       "2  2012    AL    lee                4671.250000                    6.766667   \n",
       "3  2013    AL    lee                4144.250000                    5.858333   \n",
       "4  2014    AL    lee                3987.000000                    5.566667   \n",
       "\n",
       "   Number of Crimes  Total Labor Force  \n",
       "0              7107        66764.16667  \n",
       "1              9148        68315.50000  \n",
       "2              8036        68918.25000  \n",
       "3              7441        70523.00000  \n",
       "4              7671        71372.16667  "
      ]
     },
     "execution_count": 69,
     "metadata": {},
     "output_type": "execute_result"
    }
   ],
   "source": [
    "# Convert county names to lower case\n",
    "readCrime['county'] = readCrime['county'].str.lower()\n",
    "secondCrime['county'] = secondCrime['county'].str.lower()\n",
    "readCounty['county'] = readCounty['county'].str.lower()\n",
    "laborForce['county'] = laborForce['county'].str.lower()\n",
    "unemployment['county'] = unemployment['county'].str.lower()\n",
    "\n",
    "# Remove space and county from county list\n",
    "readCounty['county'] = readCounty['county'].map(lambda x: x.rstrip(' county'))\n",
    "laborForce['county'] = laborForce['county'].map(lambda x: x.rstrip(' county'))\n",
    "unemployment['county'] = unemployment['county'].map(lambda x: x.rstrip(' county'))\n",
    "\n",
    "# Add two crime dataframes together and reset index\n",
    "combCrime = readCrime.append(secondCrime)\n",
    "combCrime.reset_index(inplace=True)\n",
    "\n",
    "# Merge county dataframes with county dataframe, percents with that, and population with that\n",
    "mergedDF = pd.merge(readCounty, combCrime, on=['state','county','Year'], how='inner')\n",
    "percentDF = pd.merge(mergedDF, unemployment, on=['state','county','Year'])\n",
    "\n",
    "# Grab only columns we want\n",
    "finalDF = pd.merge(percentDF, laborForce, on=['state','county','Year'])\n",
    "\n",
    "# Make Pretty\n",
    "selectColumnsDF = finalDF[['Year', 'state', 'county', 'Average (Monthly) Number Unemployed', \n",
    "                         'Average (Monthly) Percent Unemployed', 'count', 'Average Total Employment']]\n",
    "formattedDF = selectColumnsDF.rename(columns={'state': 'State', 'county': 'County', \n",
    "                            'Average (Monthly) Number Unemployed': 'Average Number Unemployed',\n",
    "                           'Average (Monthly) Percent Unemployed': 'Average Percent Unemployed',\n",
    "                           'count': 'Number of Crimes', 'Average Total Employment': 'Total Labor Force'})\n",
    "\n",
    "# Show\n",
    "formattedDF.head()"
   ]
  },
  {
   "cell_type": "code",
   "execution_count": 4,
   "metadata": {},
   "outputs": [],
   "source": [
    "formattedDF.to_csv(\"EmploymentVsCrime.csv\")"
   ]
  },
  {
   "cell_type": "code",
   "execution_count": 44,
   "metadata": {},
   "outputs": [
    {
     "data": {
      "text/html": [
       "<div>\n",
       "<style scoped>\n",
       "    .dataframe tbody tr th:only-of-type {\n",
       "        vertical-align: middle;\n",
       "    }\n",
       "\n",
       "    .dataframe tbody tr th {\n",
       "        vertical-align: top;\n",
       "    }\n",
       "\n",
       "    .dataframe thead th {\n",
       "        text-align: right;\n",
       "    }\n",
       "</style>\n",
       "<table border=\"1\" class=\"dataframe\">\n",
       "  <thead>\n",
       "    <tr style=\"text-align: right;\">\n",
       "      <th></th>\n",
       "      <th>Year</th>\n",
       "      <th>State</th>\n",
       "      <th>County</th>\n",
       "      <th>Average Number Unemployed</th>\n",
       "      <th>Average Percent Unemployed</th>\n",
       "      <th>Number of Crimes</th>\n",
       "      <th>Total Labor Force</th>\n",
       "      <th>Crimes Per 100 Workers</th>\n",
       "    </tr>\n",
       "  </thead>\n",
       "  <tbody>\n",
       "    <tr>\n",
       "      <th>0</th>\n",
       "      <td>2010</td>\n",
       "      <td>AL</td>\n",
       "      <td>lee</td>\n",
       "      <td>6005.750000</td>\n",
       "      <td>9.025000</td>\n",
       "      <td>7107</td>\n",
       "      <td>66764.16667</td>\n",
       "      <td>10.644932</td>\n",
       "    </tr>\n",
       "    <tr>\n",
       "      <th>1</th>\n",
       "      <td>2011</td>\n",
       "      <td>AL</td>\n",
       "      <td>lee</td>\n",
       "      <td>5503.583333</td>\n",
       "      <td>8.050000</td>\n",
       "      <td>9148</td>\n",
       "      <td>68315.50000</td>\n",
       "      <td>13.390812</td>\n",
       "    </tr>\n",
       "    <tr>\n",
       "      <th>2</th>\n",
       "      <td>2012</td>\n",
       "      <td>AL</td>\n",
       "      <td>lee</td>\n",
       "      <td>4671.250000</td>\n",
       "      <td>6.766667</td>\n",
       "      <td>8036</td>\n",
       "      <td>68918.25000</td>\n",
       "      <td>11.660192</td>\n",
       "    </tr>\n",
       "    <tr>\n",
       "      <th>3</th>\n",
       "      <td>2013</td>\n",
       "      <td>AL</td>\n",
       "      <td>lee</td>\n",
       "      <td>4144.250000</td>\n",
       "      <td>5.858333</td>\n",
       "      <td>7441</td>\n",
       "      <td>70523.00000</td>\n",
       "      <td>10.551168</td>\n",
       "    </tr>\n",
       "    <tr>\n",
       "      <th>4</th>\n",
       "      <td>2014</td>\n",
       "      <td>AL</td>\n",
       "      <td>lee</td>\n",
       "      <td>3987.000000</td>\n",
       "      <td>5.566667</td>\n",
       "      <td>7671</td>\n",
       "      <td>71372.16667</td>\n",
       "      <td>10.747887</td>\n",
       "    </tr>\n",
       "  </tbody>\n",
       "</table>\n",
       "</div>"
      ],
      "text/plain": [
       "   Year State County  Average Number Unemployed  Average Percent Unemployed  \\\n",
       "0  2010    AL    lee                6005.750000                    9.025000   \n",
       "1  2011    AL    lee                5503.583333                    8.050000   \n",
       "2  2012    AL    lee                4671.250000                    6.766667   \n",
       "3  2013    AL    lee                4144.250000                    5.858333   \n",
       "4  2014    AL    lee                3987.000000                    5.566667   \n",
       "\n",
       "   Number of Crimes  Total Labor Force  Crimes Per 100 Workers  \n",
       "0              7107        66764.16667               10.644932  \n",
       "1              9148        68315.50000               13.390812  \n",
       "2              8036        68918.25000               11.660192  \n",
       "3              7441        70523.00000               10.551168  \n",
       "4              7671        71372.16667               10.747887  "
      ]
     },
     "execution_count": 44,
     "metadata": {},
     "output_type": "execute_result"
    }
   ],
   "source": [
    "formattedDF['Crimes Per 100 Workers'] = (formattedDF['Number of Crimes'] / formattedDF['Total Labor Force'])*100\n",
    "formattedDF.head()"
   ]
  },
  {
   "cell_type": "code",
   "execution_count": 50,
   "metadata": {},
   "outputs": [
    {
     "data": {
      "text/html": [
       "<div>\n",
       "<style scoped>\n",
       "    .dataframe tbody tr th:only-of-type {\n",
       "        vertical-align: middle;\n",
       "    }\n",
       "\n",
       "    .dataframe tbody tr th {\n",
       "        vertical-align: top;\n",
       "    }\n",
       "\n",
       "    .dataframe thead th {\n",
       "        text-align: right;\n",
       "    }\n",
       "</style>\n",
       "<table border=\"1\" class=\"dataframe\">\n",
       "  <thead>\n",
       "    <tr style=\"text-align: right;\">\n",
       "      <th></th>\n",
       "      <th>Year</th>\n",
       "      <th>State</th>\n",
       "      <th>County</th>\n",
       "      <th>Average Number Unemployed</th>\n",
       "      <th>Average Percent Unemployed</th>\n",
       "      <th>Number of Crimes</th>\n",
       "      <th>Total Labor Force</th>\n",
       "      <th>Crimes Per 100 Workers</th>\n",
       "    </tr>\n",
       "  </thead>\n",
       "  <tbody>\n",
       "    <tr>\n",
       "      <th>0</th>\n",
       "      <td>2010</td>\n",
       "      <td>AL</td>\n",
       "      <td>lee</td>\n",
       "      <td>6005.750000</td>\n",
       "      <td>9.025000</td>\n",
       "      <td>7107</td>\n",
       "      <td>66764.166670</td>\n",
       "      <td>10.644932</td>\n",
       "    </tr>\n",
       "    <tr>\n",
       "      <th>6</th>\n",
       "      <td>2010</td>\n",
       "      <td>AL</td>\n",
       "      <td>bibb</td>\n",
       "      <td>1020.416667</td>\n",
       "      <td>11.425000</td>\n",
       "      <td>658</td>\n",
       "      <td>8934.000000</td>\n",
       "      <td>7.365122</td>\n",
       "    </tr>\n",
       "    <tr>\n",
       "      <th>12</th>\n",
       "      <td>2010</td>\n",
       "      <td>AL</td>\n",
       "      <td>dale</td>\n",
       "      <td>1947.750000</td>\n",
       "      <td>8.833333</td>\n",
       "      <td>2160</td>\n",
       "      <td>22071.250000</td>\n",
       "      <td>9.786487</td>\n",
       "    </tr>\n",
       "    <tr>\n",
       "      <th>18</th>\n",
       "      <td>2010</td>\n",
       "      <td>AL</td>\n",
       "      <td>hale</td>\n",
       "      <td>971.666667</td>\n",
       "      <td>15.091667</td>\n",
       "      <td>362</td>\n",
       "      <td>6445.083333</td>\n",
       "      <td>5.616685</td>\n",
       "    </tr>\n",
       "    <tr>\n",
       "      <th>24</th>\n",
       "      <td>2010</td>\n",
       "      <td>AL</td>\n",
       "      <td>pike</td>\n",
       "      <td>1478.916667</td>\n",
       "      <td>9.441667</td>\n",
       "      <td>2865</td>\n",
       "      <td>15676.916670</td>\n",
       "      <td>18.275277</td>\n",
       "    </tr>\n",
       "  </tbody>\n",
       "</table>\n",
       "</div>"
      ],
      "text/plain": [
       "    Year State County  Average Number Unemployed  Average Percent Unemployed  \\\n",
       "0   2010    AL    lee                6005.750000                    9.025000   \n",
       "6   2010    AL   bibb                1020.416667                   11.425000   \n",
       "12  2010    AL   dale                1947.750000                    8.833333   \n",
       "18  2010    AL   hale                 971.666667                   15.091667   \n",
       "24  2010    AL   pike                1478.916667                    9.441667   \n",
       "\n",
       "    Number of Crimes  Total Labor Force  Crimes Per 100 Workers  \n",
       "0               7107       66764.166670               10.644932  \n",
       "6                658        8934.000000                7.365122  \n",
       "12              2160       22071.250000                9.786487  \n",
       "18               362        6445.083333                5.616685  \n",
       "24              2865       15676.916670               18.275277  "
      ]
     },
     "execution_count": 50,
     "metadata": {},
     "output_type": "execute_result"
    }
   ],
   "source": [
    "year2010DF = formattedDF[formattedDF['Year']==2010]\n",
    "year2011DF = formattedDF[formattedDF['Year']==2011]\n",
    "year2012DF = formattedDF[formattedDF['Year']==2012]\n",
    "year2013DF = formattedDF[formattedDF['Year']==2013]\n",
    "year2014DF = formattedDF[formattedDF['Year']==2014]\n",
    "year2015DF = formattedDF[formattedDF['Year']==2015]\n",
    "year2010DF.head()"
   ]
  },
  {
   "cell_type": "code",
   "execution_count": 63,
   "metadata": {},
   "outputs": [
    {
     "name": "stdout",
     "output_type": "stream",
     "text": [
      "Slope = 0.566325449388647\n",
      "R Value = 0.07275797261944456\n",
      "P Value = 0.0020507041895515073\n"
     ]
    },
    {
     "data": {
      "image/png": "[encoded data removed]",
      "text/plain": [
       "<Figure size 432x288 with 1 Axes>"
      ]
     },
     "metadata": {
      "needs_background": "light"
     },
     "output_type": "display_data"
    }
   ],
   "source": [
    "plt.scatter(year2010DF['Average Percent Unemployed'], year2010DF['Crimes Per 100 Workers'])\n",
    "x = year2010DF['Average Percent Unemployed']\n",
    "y = year2010DF['Crimes Per 100 Workers']\n",
    "slope, intercept, r_value, p_value, std_err = stats.linregress(x,y)\n",
    "line = slope*x+intercept\n",
    "\n",
    "plt.plot(x,y,'o', x, line)\n",
    "print(f\"Slope = {slope}\")\n",
    "print(f\"R Value = {r_value}\")\n",
    "print(f\"P Value = {p_value}\")"
   ]
  },
  {
   "cell_type": "code",
   "execution_count": 62,
   "metadata": {},
   "outputs": [
    {
     "name": "stdout",
     "output_type": "stream",
     "text": [
      "Slope = 0.6846559077716751\n",
      "R Value = 0.09228485369926263\n",
      "P Value = 9.103493487300678e-05\n"
     ]
    },
    {
     "data": {
      "image/png": "[encoded data removed]",
      "text/plain": [
       "<Figure size 432x288 with 1 Axes>"
      ]
     },
     "metadata": {
      "needs_background": "light"
     },
     "output_type": "display_data"
    }
   ],
   "source": [
    "plt.scatter(year2011DF['Average Percent Unemployed'], year2011DF['Crimes Per 100 Workers'])\n",
    "x2 = year2011DF['Average Percent Unemployed']\n",
    "y2 = year2011DF['Crimes Per 100 Workers']\n",
    "slope, intercept, r_value, p_value, std_err = stats.linregress(x2,y2)\n",
    "line2 = slope*x+intercept\n",
    "\n",
    "plt.plot(x2,y2,'o', x2, line2)\n",
    "print(f\"Slope = {slope}\")\n",
    "print(f\"R Value = {r_value}\")\n",
    "print(f\"P Value = {p_value}\")"
   ]
  },
  {
   "cell_type": "code",
   "execution_count": 61,
   "metadata": {},
   "outputs": [
    {
     "name": "stdout",
     "output_type": "stream",
     "text": [
      "Slope = 0.6464665879800361\n",
      "R Value = 0.07898000671127121\n",
      "P Value = 0.0008162834673088378\n"
     ]
    },
    {
     "data": {
      "image/png": "[encoded data removed]",
      "text/plain": [
       "<Figure size 432x288 with 1 Axes>"
      ]
     },
     "metadata": {
      "needs_background": "light"
     },
     "output_type": "display_data"
    }
   ],
   "source": [
    "plt.scatter(year2012DF['Average Percent Unemployed'], year2012DF['Crimes Per 100 Workers'])\n",
    "x3 = year2012DF['Average Percent Unemployed']\n",
    "y3 = year2012DF['Crimes Per 100 Workers']\n",
    "slope, intercept, r_value, p_value, std_err = stats.linregress(x3,y3)\n",
    "line3 = slope*x+intercept\n",
    "\n",
    "plt.plot(x3,y3,'o', x3, line3)\n",
    "print(f\"Slope = {slope}\")\n",
    "print(f\"R Value = {r_value}\")\n",
    "print(f\"P Value = {p_value}\")"
   ]
  },
  {
   "cell_type": "code",
   "execution_count": 60,
   "metadata": {},
   "outputs": [
    {
     "name": "stdout",
     "output_type": "stream",
     "text": [
      "Slope = 0.5171366417500852\n",
      "R Value = 0.061966796279712716\n",
      "P Value = 0.008674975464955059\n"
     ]
    },
    {
     "data": {
      "image/png": "[encoded data removed]",
      "text/plain": [
       "<Figure size 432x288 with 1 Axes>"
      ]
     },
     "metadata": {
      "needs_background": "light"
     },
     "output_type": "display_data"
    }
   ],
   "source": [
    "plt.scatter(year2013DF['Average Percent Unemployed'], year2013DF['Crimes Per 100 Workers'])\n",
    "x3 = year2013DF['Average Percent Unemployed']\n",
    "y3 = year2013DF['Crimes Per 100 Workers']\n",
    "slope, intercept, r_value, p_value, std_err = stats.linregress(x3,y3)\n",
    "line3 = slope*x+intercept\n",
    "\n",
    "plt.plot(x3,y3,'o', x3, line3)\n",
    "print(f\"Slope = {slope}\")\n",
    "print(f\"R Value = {r_value}\")\n",
    "print(f\"P Value = {p_value}\")"
   ]
  },
  {
   "cell_type": "code",
   "execution_count": 74,
   "metadata": {},
   "outputs": [
    {
     "name": "stdout",
     "output_type": "stream",
     "text": [
      "Slope = 0.6036062252541872\n",
      "R Value = 0.06381230841682349\n",
      "P Value = 0.006873158778874158\n"
     ]
    },
    {
     "data": {
      "image/png": "[encoded data removed]",
      "text/plain": [
       "<Figure size 432x288 with 1 Axes>"
      ]
     },
     "metadata": {
      "needs_background": "light"
     },
     "output_type": "display_data"
    }
   ],
   "source": [
    "plt.scatter(year2014DF['Average Percent Unemployed'], year2014DF['Crimes Per 100 Workers'])\n",
    "x4 = year2014DF['Average Percent Unemployed']\n",
    "y4 = year2014DF['Crimes Per 100 Workers']\n",
    "slope, intercept, r_value, p_value, std_err = stats.linregress(x4,y4)\n",
    "line4 = slope*x+intercept\n",
    "\n",
    "plt.plot(x4,y4,'o', x4, line4)\n",
    "plt.ylim(0,100)\n",
    "print(f\"Slope = {slope}\")\n",
    "print(f\"R Value = {r_value}\")\n",
    "print(f\"P Value = {p_value}\")"
   ]
  },
  {
   "cell_type": "code",
   "execution_count": 59,
   "metadata": {},
   "outputs": [
    {
     "name": "stdout",
     "output_type": "stream",
     "text": [
      "Slope = 0.6451824536269108\n",
      "R Value = 0.06000576994733426\n",
      "P Value = 0.011041191922882863\n"
     ]
    },
    {
     "data": {
      "image/png": "[encoded data removed]",
      "text/plain": [
       "<Figure size 432x288 with 1 Axes>"
      ]
     },
     "metadata": {
      "needs_background": "light"
     },
     "output_type": "display_data"
    }
   ],
   "source": [
    "plt.scatter(year2015DF['Average Percent Unemployed'], year2015DF['Crimes Per 100 Workers'])\n",
    "x5 = year2015DF['Average Percent Unemployed']\n",
    "y5 = year2015DF['Crimes Per 100 Workers']\n",
    "slope, intercept, r_value, p_value, std_err = stats.linregress(x5,y5)\n",
    "line5 = slope*x+intercept\n",
    "\n",
    "plt.plot(x5,y5,'o', x5, line5)\n",
    "print(f\"Slope = {slope}\")\n",
    "print(f\"R Value = {r_value}\")\n",
    "print(f\"P Value = {p_value}\")"
   ]
  },
  {
   "cell_type": "code",
   "execution_count": null,
   "metadata": {},
   "outputs": [],
   "source": []
  }
 ],
 "metadata": {
  "kernelspec": {
   "display_name": "Python 3",
   "language": "python",
   "name": "python3"
  },
  "language_info": {
   "codemirror_mode": {
    "name": "ipython",
    "version": 3
   },
   "file_extension": ".py",
   "mimetype": "text/x-python",
   "name": "python",
   "nbconvert_exporter": "python",
   "pygments_lexer": "ipython3",
   "version": "3.6.6"
  }
 },
 "nbformat": 4,
 "nbformat_minor": 2
}
